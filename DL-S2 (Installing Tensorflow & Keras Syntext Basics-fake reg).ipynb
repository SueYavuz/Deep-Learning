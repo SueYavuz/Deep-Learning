{
 "cells": [
  {
   "cell_type": "markdown",
   "metadata": {
    "id": "yQGQcaYcYF_5"
   },
   "source": [
    "___\n",
    "\n",
    "<p style=\"text-align: center;\"><img src=\"https://docs.google.com/uc?id=1lY0Uj5R04yMY3-ZppPWxqCr5pvBLYPnV\" class=\"img-fluid\" alt=\"CLRSWY\"></p>\n",
    "\n",
    "___"
   ]
  },
  {
   "cell_type": "markdown",
   "metadata": {
    "id": "bV_OY9eBYF_7"
   },
   "source": [
    "<h1 style=\"text-align: center;\">Deep Learning<br><br>Session - 2<br><br>Installing Tensorflow & Keras Syntax Basics<br><br>Fake Reg<br><h1>"
   ]
  },
  {
   "cell_type": "markdown",
   "metadata": {
    "id": "AVMFCWTuYF_7"
   },
   "source": [
    "# Installing Tensorflow"
   ]
  },
  {
   "cell_type": "code",
   "execution_count": 1,
   "metadata": {
    "colab": {
     "base_uri": "https://localhost:8080/"
    },
    "executionInfo": {
     "elapsed": 11,
     "status": "ok",
     "timestamp": 1655407692762,
     "user": {
      "displayName": "Edward Williams",
      "userId": "15751998290745019023"
     },
     "user_tz": -120
    },
    "id": "LomvgaXNYF_8",
    "outputId": "dec7132a-4cff-4c0c-894d-e1d113ee59b9"
   },
   "outputs": [
    {
     "name": "stdout",
     "output_type": "stream",
     "text": [
      "Python 3.9.13\r\n"
     ]
    }
   ],
   "source": [
    "!python --version"
   ]
  },
  {
   "cell_type": "code",
   "execution_count": 1,
   "metadata": {
    "id": "XoN32SvMYF_-"
   },
   "outputs": [
    {
     "name": "stdout",
     "output_type": "stream",
     "text": [
      "Requirement already satisfied: tensorflow in /Users/sueyavuz/opt/anaconda3/lib/python3.9/site-packages (2.10.0)\n",
      "Requirement already satisfied: astunparse>=1.6.0 in /Users/sueyavuz/opt/anaconda3/lib/python3.9/site-packages (from tensorflow) (1.6.3)\n",
      "Requirement already satisfied: flatbuffers>=2.0 in /Users/sueyavuz/opt/anaconda3/lib/python3.9/site-packages (from tensorflow) (2.0.7)\n",
      "Requirement already satisfied: setuptools in /Users/sueyavuz/opt/anaconda3/lib/python3.9/site-packages (from tensorflow) (63.4.1)\n",
      "Requirement already satisfied: typing-extensions>=3.6.6 in /Users/sueyavuz/opt/anaconda3/lib/python3.9/site-packages (from tensorflow) (4.3.0)\n",
      "Requirement already satisfied: wrapt>=1.11.0 in /Users/sueyavuz/opt/anaconda3/lib/python3.9/site-packages (from tensorflow) (1.12.1)\n",
      "Requirement already satisfied: six>=1.12.0 in /Users/sueyavuz/opt/anaconda3/lib/python3.9/site-packages (from tensorflow) (1.16.0)\n",
      "Requirement already satisfied: h5py>=2.9.0 in /Users/sueyavuz/opt/anaconda3/lib/python3.9/site-packages (from tensorflow) (3.7.0)\n",
      "Requirement already satisfied: grpcio<2.0,>=1.24.3 in /Users/sueyavuz/opt/anaconda3/lib/python3.9/site-packages (from tensorflow) (1.49.0)\n",
      "Requirement already satisfied: numpy>=1.20 in /Users/sueyavuz/opt/anaconda3/lib/python3.9/site-packages (from tensorflow) (1.21.5)\n",
      "Requirement already satisfied: google-pasta>=0.1.1 in /Users/sueyavuz/opt/anaconda3/lib/python3.9/site-packages (from tensorflow) (0.2.0)\n",
      "Requirement already satisfied: keras-preprocessing>=1.1.1 in /Users/sueyavuz/opt/anaconda3/lib/python3.9/site-packages (from tensorflow) (1.1.2)\n",
      "Requirement already satisfied: tensorflow-estimator<2.11,>=2.10.0 in /Users/sueyavuz/opt/anaconda3/lib/python3.9/site-packages (from tensorflow) (2.10.0)\n",
      "Requirement already satisfied: packaging in /Users/sueyavuz/opt/anaconda3/lib/python3.9/site-packages (from tensorflow) (21.3)\n",
      "Requirement already satisfied: absl-py>=1.0.0 in /Users/sueyavuz/opt/anaconda3/lib/python3.9/site-packages (from tensorflow) (1.2.0)\n",
      "Requirement already satisfied: libclang>=13.0.0 in /Users/sueyavuz/opt/anaconda3/lib/python3.9/site-packages (from tensorflow) (14.0.6)\n",
      "Requirement already satisfied: tensorboard<2.11,>=2.10 in /Users/sueyavuz/opt/anaconda3/lib/python3.9/site-packages (from tensorflow) (2.10.0)\n",
      "Requirement already satisfied: protobuf<3.20,>=3.9.2 in /Users/sueyavuz/opt/anaconda3/lib/python3.9/site-packages (from tensorflow) (3.19.5)\n",
      "Requirement already satisfied: opt-einsum>=2.3.2 in /Users/sueyavuz/opt/anaconda3/lib/python3.9/site-packages (from tensorflow) (3.3.0)\n",
      "Requirement already satisfied: gast<=0.4.0,>=0.2.1 in /Users/sueyavuz/opt/anaconda3/lib/python3.9/site-packages (from tensorflow) (0.4.0)\n",
      "Requirement already satisfied: termcolor>=1.1.0 in /Users/sueyavuz/opt/anaconda3/lib/python3.9/site-packages (from tensorflow) (2.0.1)\n",
      "Requirement already satisfied: tensorflow-io-gcs-filesystem>=0.23.1 in /Users/sueyavuz/opt/anaconda3/lib/python3.9/site-packages (from tensorflow) (0.27.0)\n",
      "Requirement already satisfied: keras<2.11,>=2.10.0 in /Users/sueyavuz/opt/anaconda3/lib/python3.9/site-packages (from tensorflow) (2.10.0)\n",
      "Requirement already satisfied: wheel<1.0,>=0.23.0 in /Users/sueyavuz/opt/anaconda3/lib/python3.9/site-packages (from astunparse>=1.6.0->tensorflow) (0.37.1)\n",
      "Requirement already satisfied: google-auth-oauthlib<0.5,>=0.4.1 in /Users/sueyavuz/opt/anaconda3/lib/python3.9/site-packages (from tensorboard<2.11,>=2.10->tensorflow) (0.4.6)\n",
      "Requirement already satisfied: werkzeug>=1.0.1 in /Users/sueyavuz/opt/anaconda3/lib/python3.9/site-packages (from tensorboard<2.11,>=2.10->tensorflow) (2.0.3)\n",
      "Requirement already satisfied: requests<3,>=2.21.0 in /Users/sueyavuz/opt/anaconda3/lib/python3.9/site-packages (from tensorboard<2.11,>=2.10->tensorflow) (2.28.1)\n",
      "Requirement already satisfied: tensorboard-data-server<0.7.0,>=0.6.0 in /Users/sueyavuz/opt/anaconda3/lib/python3.9/site-packages (from tensorboard<2.11,>=2.10->tensorflow) (0.6.1)\n",
      "Requirement already satisfied: markdown>=2.6.8 in /Users/sueyavuz/opt/anaconda3/lib/python3.9/site-packages (from tensorboard<2.11,>=2.10->tensorflow) (3.4.1)\n",
      "Requirement already satisfied: tensorboard-plugin-wit>=1.6.0 in /Users/sueyavuz/opt/anaconda3/lib/python3.9/site-packages (from tensorboard<2.11,>=2.10->tensorflow) (1.8.1)\n",
      "Requirement already satisfied: google-auth<3,>=1.6.3 in /Users/sueyavuz/opt/anaconda3/lib/python3.9/site-packages (from tensorboard<2.11,>=2.10->tensorflow) (2.11.0)\n",
      "Requirement already satisfied: pyparsing!=3.0.5,>=2.0.2 in /Users/sueyavuz/opt/anaconda3/lib/python3.9/site-packages (from packaging->tensorflow) (3.0.9)\n",
      "Requirement already satisfied: rsa<5,>=3.1.4 in /Users/sueyavuz/opt/anaconda3/lib/python3.9/site-packages (from google-auth<3,>=1.6.3->tensorboard<2.11,>=2.10->tensorflow) (4.9)\n",
      "Requirement already satisfied: cachetools<6.0,>=2.0.0 in /Users/sueyavuz/opt/anaconda3/lib/python3.9/site-packages (from google-auth<3,>=1.6.3->tensorboard<2.11,>=2.10->tensorflow) (5.2.0)\n",
      "Requirement already satisfied: pyasn1-modules>=0.2.1 in /Users/sueyavuz/opt/anaconda3/lib/python3.9/site-packages (from google-auth<3,>=1.6.3->tensorboard<2.11,>=2.10->tensorflow) (0.2.8)\n",
      "Requirement already satisfied: requests-oauthlib>=0.7.0 in /Users/sueyavuz/opt/anaconda3/lib/python3.9/site-packages (from google-auth-oauthlib<0.5,>=0.4.1->tensorboard<2.11,>=2.10->tensorflow) (1.3.1)\n",
      "Requirement already satisfied: importlib-metadata>=4.4 in /Users/sueyavuz/opt/anaconda3/lib/python3.9/site-packages (from markdown>=2.6.8->tensorboard<2.11,>=2.10->tensorflow) (4.11.3)\n",
      "Requirement already satisfied: urllib3<1.27,>=1.21.1 in /Users/sueyavuz/opt/anaconda3/lib/python3.9/site-packages (from requests<3,>=2.21.0->tensorboard<2.11,>=2.10->tensorflow) (1.26.11)\n",
      "Requirement already satisfied: idna<4,>=2.5 in /Users/sueyavuz/opt/anaconda3/lib/python3.9/site-packages (from requests<3,>=2.21.0->tensorboard<2.11,>=2.10->tensorflow) (3.3)\n",
      "Requirement already satisfied: certifi>=2017.4.17 in /Users/sueyavuz/opt/anaconda3/lib/python3.9/site-packages (from requests<3,>=2.21.0->tensorboard<2.11,>=2.10->tensorflow) (2022.6.15)\n",
      "Requirement already satisfied: charset-normalizer<3,>=2 in /Users/sueyavuz/opt/anaconda3/lib/python3.9/site-packages (from requests<3,>=2.21.0->tensorboard<2.11,>=2.10->tensorflow) (2.0.4)\n",
      "Requirement already satisfied: zipp>=0.5 in /Users/sueyavuz/opt/anaconda3/lib/python3.9/site-packages (from importlib-metadata>=4.4->markdown>=2.6.8->tensorboard<2.11,>=2.10->tensorflow) (3.8.0)\n",
      "Requirement already satisfied: pyasn1<0.5.0,>=0.4.6 in /Users/sueyavuz/opt/anaconda3/lib/python3.9/site-packages (from pyasn1-modules>=0.2.1->google-auth<3,>=1.6.3->tensorboard<2.11,>=2.10->tensorflow) (0.4.8)\n",
      "Requirement already satisfied: oauthlib>=3.0.0 in /Users/sueyavuz/opt/anaconda3/lib/python3.9/site-packages (from requests-oauthlib>=0.7.0->google-auth-oauthlib<0.5,>=0.4.1->tensorboard<2.11,>=2.10->tensorflow) (3.2.1)\n",
      "Collecting package metadata (current_repodata.json): done\n",
      "Solving environment: failed with initial frozen solve. Retrying with flexible solve.\n",
      "Solving environment: failed with repodata from current_repodata.json, will retry with next repodata source.\n",
      "Collecting package metadata (repodata.json): done\n",
      "Solving environment: failed with initial frozen solve. Retrying with flexible solve.\n",
      "Solving environment: - \n",
      "Found conflicts! Looking for incompatible packages.\n",
      "This can take several minutes.  Press CTRL-C to abort.\n",
      "                                                                               failed\n",
      "\n",
      "UnsatisfiableError: The following specifications were found\n",
      "to be incompatible with the existing python installation in your environment:\n",
      "\n",
      "Specifications:\n",
      "\n",
      "  - tensorflow -> python[version='2.7.*|3.7.*|3.6.*|3.5.*']\n",
      "\n",
      "Your python: python=3.9\n",
      "\n",
      "If python is on the left-most side of the chain, that's the version you've asked for.\n",
      "When python appears to the right, that indicates that the thing on the left is somehow\n",
      "not available for the python version you are constrained to. Note that conda will not\n",
      "change your python version to a different minor version unless you explicitly specify\n",
      "that.\n",
      "\n",
      "\n",
      "\n"
     ]
    }
   ],
   "source": [
    "#!pip install tensorflow\n",
    "\n",
    "#!conda install tensorflow"
   ]
  },
  {
   "cell_type": "code",
   "execution_count": null,
   "metadata": {
    "id": "PJmTZvrkYF_-",
    "outputId": "bfd0a8a4-ba6a-4184-f74b-c30d80d54fda"
   },
   "outputs": [],
   "source": [
    "import tensorflow as tf\n",
    "tf.__version__"
   ]
  },
  {
   "cell_type": "markdown",
   "metadata": {
    "id": "ID58GLICYF__"
   },
   "source": [
    "# Keras Syntax Basics"
   ]
  },
  {
   "cell_type": "code",
   "execution_count": 1,
   "metadata": {
    "id": "ltaJwcuGYF__"
   },
   "outputs": [],
   "source": [
    "import numpy as np\n",
    "import pandas as pd\n",
    "import matplotlib.pyplot as plt\n",
    "import seaborn as sns\n",
    "\n",
    "sns.set_style(\"whitegrid\")\n",
    "# pd.set_option('display.float_format', lambda x: '%.3f' % x)\n",
    "\n",
    "# Set it None to display all rows in the dataframe\n",
    "# pd.set_option('display.max_rows', None)\n",
    "\n",
    "# Set it to None to display all columns in the dataframe\n",
    "# pd.set_option('display.max_columns', None)"
   ]
  },
  {
   "cell_type": "code",
   "execution_count": 5,
   "metadata": {
    "id": "_ZmgVPfxYGAA"
   },
   "outputs": [],
   "source": [
    "#from google.colab import drive\n",
    "#drive.mount('/content/drive')"
   ]
  },
  {
   "cell_type": "code",
   "execution_count": 6,
   "metadata": {
    "id": "GpeUB7FNYGAA"
   },
   "outputs": [],
   "source": [
    "#df = pd.read_csv(\"drive/MyDrive/Colab_Files/data/fake_reg.csv\")"
   ]
  },
  {
   "cell_type": "code",
   "execution_count": 2,
   "metadata": {
    "id": "ZuOi0MyeYGAA"
   },
   "outputs": [],
   "source": [
    "df = pd.read_csv(\"fake_reg.csv\")\n"
   ]
  },
  {
   "cell_type": "markdown",
   "metadata": {
    "id": "kLE5OOGyYGAC"
   },
   "source": [
    "## Exploratory Data Analysis and Visualization"
   ]
  },
  {
   "cell_type": "code",
   "execution_count": 3,
   "metadata": {
    "id": "CaLCY4fmYGAC",
    "outputId": "03fc2465-6d6a-40d4-e602-5c6298c0f0d1"
   },
   "outputs": [
    {
     "data": {
      "text/html": [
       "<div>\n",
       "<style scoped>\n",
       "    .dataframe tbody tr th:only-of-type {\n",
       "        vertical-align: middle;\n",
       "    }\n",
       "\n",
       "    .dataframe tbody tr th {\n",
       "        vertical-align: top;\n",
       "    }\n",
       "\n",
       "    .dataframe thead th {\n",
       "        text-align: right;\n",
       "    }\n",
       "</style>\n",
       "<table border=\"1\" class=\"dataframe\">\n",
       "  <thead>\n",
       "    <tr style=\"text-align: right;\">\n",
       "      <th></th>\n",
       "      <th>price</th>\n",
       "      <th>feature1</th>\n",
       "      <th>feature2</th>\n",
       "    </tr>\n",
       "  </thead>\n",
       "  <tbody>\n",
       "    <tr>\n",
       "      <th>0</th>\n",
       "      <td>461.527929</td>\n",
       "      <td>999.787558</td>\n",
       "      <td>999.766096</td>\n",
       "    </tr>\n",
       "    <tr>\n",
       "      <th>1</th>\n",
       "      <td>548.130011</td>\n",
       "      <td>998.861615</td>\n",
       "      <td>1001.042403</td>\n",
       "    </tr>\n",
       "    <tr>\n",
       "      <th>2</th>\n",
       "      <td>410.297162</td>\n",
       "      <td>1000.070267</td>\n",
       "      <td>998.844015</td>\n",
       "    </tr>\n",
       "    <tr>\n",
       "      <th>3</th>\n",
       "      <td>540.382220</td>\n",
       "      <td>999.952251</td>\n",
       "      <td>1000.440940</td>\n",
       "    </tr>\n",
       "    <tr>\n",
       "      <th>4</th>\n",
       "      <td>546.024553</td>\n",
       "      <td>1000.446011</td>\n",
       "      <td>1000.338531</td>\n",
       "    </tr>\n",
       "  </tbody>\n",
       "</table>\n",
       "</div>"
      ],
      "text/plain": [
       "        price     feature1     feature2\n",
       "0  461.527929   999.787558   999.766096\n",
       "1  548.130011   998.861615  1001.042403\n",
       "2  410.297162  1000.070267   998.844015\n",
       "3  540.382220   999.952251  1000.440940\n",
       "4  546.024553  1000.446011  1000.338531"
      ]
     },
     "execution_count": 3,
     "metadata": {},
     "output_type": "execute_result"
    }
   ],
   "source": [
    "df.head()"
   ]
  },
  {
   "cell_type": "code",
   "execution_count": 4,
   "metadata": {
    "id": "j5NcInMDYGAD",
    "outputId": "2ba29901-3b23-47a6-9bdd-2a91bd01d0b6"
   },
   "outputs": [
    {
     "name": "stdout",
     "output_type": "stream",
     "text": [
      "<class 'pandas.core.frame.DataFrame'>\n",
      "RangeIndex: 1000 entries, 0 to 999\n",
      "Data columns (total 3 columns):\n",
      " #   Column    Non-Null Count  Dtype  \n",
      "---  ------    --------------  -----  \n",
      " 0   price     1000 non-null   float64\n",
      " 1   feature1  1000 non-null   float64\n",
      " 2   feature2  1000 non-null   float64\n",
      "dtypes: float64(3)\n",
      "memory usage: 23.6 KB\n"
     ]
    }
   ],
   "source": [
    "df.info()"
   ]
  },
  {
   "cell_type": "code",
   "execution_count": 5,
   "metadata": {
    "id": "Gy5QaohhYGAD",
    "outputId": "10c2589c-5583-45ef-82e6-6fd9e435dba3"
   },
   "outputs": [
    {
     "data": {
      "text/html": [
       "<div>\n",
       "<style scoped>\n",
       "    .dataframe tbody tr th:only-of-type {\n",
       "        vertical-align: middle;\n",
       "    }\n",
       "\n",
       "    .dataframe tbody tr th {\n",
       "        vertical-align: top;\n",
       "    }\n",
       "\n",
       "    .dataframe thead th {\n",
       "        text-align: right;\n",
       "    }\n",
       "</style>\n",
       "<table border=\"1\" class=\"dataframe\">\n",
       "  <thead>\n",
       "    <tr style=\"text-align: right;\">\n",
       "      <th></th>\n",
       "      <th>count</th>\n",
       "      <th>mean</th>\n",
       "      <th>std</th>\n",
       "      <th>min</th>\n",
       "      <th>25%</th>\n",
       "      <th>50%</th>\n",
       "      <th>75%</th>\n",
       "      <th>max</th>\n",
       "    </tr>\n",
       "  </thead>\n",
       "  <tbody>\n",
       "    <tr>\n",
       "      <th>price</th>\n",
       "      <td>1000.0</td>\n",
       "      <td>498.673029</td>\n",
       "      <td>93.785431</td>\n",
       "      <td>223.346793</td>\n",
       "      <td>433.025732</td>\n",
       "      <td>502.382117</td>\n",
       "      <td>564.921588</td>\n",
       "      <td>774.407854</td>\n",
       "    </tr>\n",
       "    <tr>\n",
       "      <th>feature1</th>\n",
       "      <td>1000.0</td>\n",
       "      <td>1000.014171</td>\n",
       "      <td>0.974018</td>\n",
       "      <td>997.058347</td>\n",
       "      <td>999.332068</td>\n",
       "      <td>1000.009915</td>\n",
       "      <td>1000.637580</td>\n",
       "      <td>1003.207934</td>\n",
       "    </tr>\n",
       "    <tr>\n",
       "      <th>feature2</th>\n",
       "      <td>1000.0</td>\n",
       "      <td>999.979847</td>\n",
       "      <td>0.948330</td>\n",
       "      <td>996.995651</td>\n",
       "      <td>999.316106</td>\n",
       "      <td>1000.002243</td>\n",
       "      <td>1000.645380</td>\n",
       "      <td>1002.666308</td>\n",
       "    </tr>\n",
       "  </tbody>\n",
       "</table>\n",
       "</div>"
      ],
      "text/plain": [
       "           count         mean        std         min         25%          50%  \\\n",
       "price     1000.0   498.673029  93.785431  223.346793  433.025732   502.382117   \n",
       "feature1  1000.0  1000.014171   0.974018  997.058347  999.332068  1000.009915   \n",
       "feature2  1000.0   999.979847   0.948330  996.995651  999.316106  1000.002243   \n",
       "\n",
       "                  75%          max  \n",
       "price      564.921588   774.407854  \n",
       "feature1  1000.637580  1003.207934  \n",
       "feature2  1000.645380  1002.666308  "
      ]
     },
     "execution_count": 5,
     "metadata": {},
     "output_type": "execute_result"
    }
   ],
   "source": [
    "df.describe().T"
   ]
  },
  {
   "cell_type": "code",
   "execution_count": 11,
   "metadata": {
    "id": "-Ebw6uXDYGAE",
    "outputId": "df70872e-46b8-4ff5-8193-3ec36d7849a3"
   },
   "outputs": [
    {
     "data": {
      "image/png": "[encoded data removed]",
      "text/plain": [
       "<Figure size 750x750 with 12 Axes>"
      ]
     },
     "metadata": {},
     "output_type": "display_data"
    }
   ],
   "source": [
    "sns.pairplot(df);"
   ]
  },
  {
   "cell_type": "code",
   "execution_count": 6,
   "metadata": {
    "id": "R-MKjPmNYGAE",
    "outputId": "090a6046-c267-40dc-cd4e-40b812b71bb0"
   },
   "outputs": [
    {
     "data": {
      "text/html": [
       "<div>\n",
       "<style scoped>\n",
       "    .dataframe tbody tr th:only-of-type {\n",
       "        vertical-align: middle;\n",
       "    }\n",
       "\n",
       "    .dataframe tbody tr th {\n",
       "        vertical-align: top;\n",
       "    }\n",
       "\n",
       "    .dataframe thead th {\n",
       "        text-align: right;\n",
       "    }\n",
       "</style>\n",
       "<table border=\"1\" class=\"dataframe\">\n",
       "  <thead>\n",
       "    <tr style=\"text-align: right;\">\n",
       "      <th></th>\n",
       "      <th>price</th>\n",
       "      <th>feature1</th>\n",
       "      <th>feature2</th>\n",
       "    </tr>\n",
       "  </thead>\n",
       "  <tbody>\n",
       "    <tr>\n",
       "      <th>price</th>\n",
       "      <td>1.000000</td>\n",
       "      <td>0.444190</td>\n",
       "      <td>0.907576</td>\n",
       "    </tr>\n",
       "    <tr>\n",
       "      <th>feature1</th>\n",
       "      <td>0.444190</td>\n",
       "      <td>1.000000</td>\n",
       "      <td>0.030607</td>\n",
       "    </tr>\n",
       "    <tr>\n",
       "      <th>feature2</th>\n",
       "      <td>0.907576</td>\n",
       "      <td>0.030607</td>\n",
       "      <td>1.000000</td>\n",
       "    </tr>\n",
       "  </tbody>\n",
       "</table>\n",
       "</div>"
      ],
      "text/plain": [
       "             price  feature1  feature2\n",
       "price     1.000000  0.444190  0.907576\n",
       "feature1  0.444190  1.000000  0.030607\n",
       "feature2  0.907576  0.030607  1.000000"
      ]
     },
     "execution_count": 6,
     "metadata": {},
     "output_type": "execute_result"
    }
   ],
   "source": [
    "df.corr()"
   ]
  },
  {
   "cell_type": "code",
   "execution_count": 7,
   "metadata": {},
   "outputs": [
    {
     "data": {
      "image/png": "[encoded data removed]",
      "text/plain": [
       "<Figure size 640x480 with 2 Axes>"
      ]
     },
     "metadata": {},
     "output_type": "display_data"
    }
   ],
   "source": [
    "sns.heatmap(df.corr(), vmin=-1, vmax=1, annot=True, cmap='Spectral')\n",
    "plt.show()"
   ]
  },
  {
   "cell_type": "markdown",
   "metadata": {
    "id": "O3Ku2VSEYGAF"
   },
   "source": [
    "## Preprocessing of Data\n",
    "- Train | Test Split, Scalling"
   ]
  },
  {
   "cell_type": "code",
   "execution_count": 16,
   "metadata": {
    "id": "QRWJczjFYGAF"
   },
   "outputs": [],
   "source": [
    "from sklearn.model_selection import train_test_split"
   ]
  },
  {
   "cell_type": "code",
   "execution_count": 17,
   "metadata": {
    "id": "4EQA8aFqYGAG"
   },
   "outputs": [],
   "source": [
    "# X = df[['feature1', 'feature2']].values\n",
    "# y = df['price'].values"
   ]
  },
  {
   "cell_type": "code",
   "execution_count": 18,
   "metadata": {
    "id": "isOKQsJUYGAG"
   },
   "outputs": [],
   "source": [
    "X = df.drop('price', axis=1)\n",
    "y = df['price']"
   ]
  },
  {
   "cell_type": "code",
   "execution_count": 19,
   "metadata": {
    "id": "yUGOs7EKYGAG",
    "outputId": "1c466c61-b6f4-4dd3-8988-0d40df6e19ec"
   },
   "outputs": [
    {
     "data": {
      "text/html": [
       "<div>\n",
       "<style scoped>\n",
       "    .dataframe tbody tr th:only-of-type {\n",
       "        vertical-align: middle;\n",
       "    }\n",
       "\n",
       "    .dataframe tbody tr th {\n",
       "        vertical-align: top;\n",
       "    }\n",
       "\n",
       "    .dataframe thead th {\n",
       "        text-align: right;\n",
       "    }\n",
       "</style>\n",
       "<table border=\"1\" class=\"dataframe\">\n",
       "  <thead>\n",
       "    <tr style=\"text-align: right;\">\n",
       "      <th></th>\n",
       "      <th>feature1</th>\n",
       "      <th>feature2</th>\n",
       "    </tr>\n",
       "  </thead>\n",
       "  <tbody>\n",
       "    <tr>\n",
       "      <th>0</th>\n",
       "      <td>999.787558</td>\n",
       "      <td>999.766096</td>\n",
       "    </tr>\n",
       "    <tr>\n",
       "      <th>1</th>\n",
       "      <td>998.861615</td>\n",
       "      <td>1001.042403</td>\n",
       "    </tr>\n",
       "    <tr>\n",
       "      <th>2</th>\n",
       "      <td>1000.070267</td>\n",
       "      <td>998.844015</td>\n",
       "    </tr>\n",
       "    <tr>\n",
       "      <th>3</th>\n",
       "      <td>999.952251</td>\n",
       "      <td>1000.440940</td>\n",
       "    </tr>\n",
       "    <tr>\n",
       "      <th>4</th>\n",
       "      <td>1000.446011</td>\n",
       "      <td>1000.338531</td>\n",
       "    </tr>\n",
       "    <tr>\n",
       "      <th>...</th>\n",
       "      <td>...</td>\n",
       "      <td>...</td>\n",
       "    </tr>\n",
       "    <tr>\n",
       "      <th>995</th>\n",
       "      <td>1000.018988</td>\n",
       "      <td>999.672732</td>\n",
       "    </tr>\n",
       "    <tr>\n",
       "      <th>996</th>\n",
       "      <td>998.855379</td>\n",
       "      <td>1000.020026</td>\n",
       "    </tr>\n",
       "    <tr>\n",
       "      <th>997</th>\n",
       "      <td>1001.451646</td>\n",
       "      <td>998.847606</td>\n",
       "    </tr>\n",
       "    <tr>\n",
       "      <th>998</th>\n",
       "      <td>1000.771023</td>\n",
       "      <td>998.562851</td>\n",
       "    </tr>\n",
       "    <tr>\n",
       "      <th>999</th>\n",
       "      <td>999.232244</td>\n",
       "      <td>1001.451407</td>\n",
       "    </tr>\n",
       "  </tbody>\n",
       "</table>\n",
       "<p>1000 rows × 2 columns</p>\n",
       "</div>"
      ],
      "text/plain": [
       "        feature1     feature2\n",
       "0     999.787558   999.766096\n",
       "1     998.861615  1001.042403\n",
       "2    1000.070267   998.844015\n",
       "3     999.952251  1000.440940\n",
       "4    1000.446011  1000.338531\n",
       "..           ...          ...\n",
       "995  1000.018988   999.672732\n",
       "996   998.855379  1000.020026\n",
       "997  1001.451646   998.847606\n",
       "998  1000.771023   998.562851\n",
       "999   999.232244  1001.451407\n",
       "\n",
       "[1000 rows x 2 columns]"
      ]
     },
     "execution_count": 19,
     "metadata": {},
     "output_type": "execute_result"
    }
   ],
   "source": [
    "X"
   ]
  },
  {
   "cell_type": "code",
   "execution_count": 20,
   "metadata": {
    "id": "cSQQ1ZxAYGAG",
    "outputId": "252ef114-27e1-417a-c20e-bc454f820453"
   },
   "outputs": [
    {
     "data": {
      "text/plain": [
       "0      461.527929\n",
       "1      548.130011\n",
       "2      410.297162\n",
       "3      540.382220\n",
       "4      546.024553\n",
       "          ...    \n",
       "995    476.526078\n",
       "996    457.313186\n",
       "997    456.720992\n",
       "998    403.315576\n",
       "999    599.367093\n",
       "Name: price, Length: 1000, dtype: float64"
      ]
     },
     "execution_count": 20,
     "metadata": {},
     "output_type": "execute_result"
    }
   ],
   "source": [
    "y"
   ]
  },
  {
   "cell_type": "code",
   "execution_count": 21,
   "metadata": {
    "id": "9wrSrCGbYGAH"
   },
   "outputs": [],
   "source": [
    "X_train, X_test, y_train, y_test = train_test_split(X, y, test_size = 0.3, random_state = 42)"
   ]
  },
  {
   "cell_type": "code",
   "execution_count": 22,
   "metadata": {
    "id": "cofsZt3PYGAH",
    "outputId": "35d2786a-0b29-4132-d673-04e160ec4627"
   },
   "outputs": [
    {
     "data": {
      "text/plain": [
       "(700, 2)"
      ]
     },
     "execution_count": 22,
     "metadata": {},
     "output_type": "execute_result"
    }
   ],
   "source": [
    "X_train.shape"
   ]
  },
  {
   "cell_type": "code",
   "execution_count": 23,
   "metadata": {
    "id": "GpBVP5DUYGAI",
    "outputId": "9dbdc53b-bbf3-40a3-c2e8-95c3910843ad"
   },
   "outputs": [
    {
     "data": {
      "text/plain": [
       "(300, 2)"
      ]
     },
     "execution_count": 23,
     "metadata": {},
     "output_type": "execute_result"
    }
   ],
   "source": [
    "X_test.shape"
   ]
  },
  {
   "cell_type": "code",
   "execution_count": 24,
   "metadata": {
    "id": "orqAUW2pYGAI"
   },
   "outputs": [],
   "source": [
    "from sklearn.preprocessing import MinMaxScaler"
   ]
  },
  {
   "cell_type": "code",
   "execution_count": 25,
   "metadata": {
    "id": "5TjLQgawYGAJ"
   },
   "outputs": [],
   "source": [
    "scaler = MinMaxScaler()"
   ]
  },
  {
   "cell_type": "code",
   "execution_count": 26,
   "metadata": {
    "id": "7ZxtfDOiYGAJ"
   },
   "outputs": [],
   "source": [
    "scaler.fit(X_train)\n",
    "X_train = scaler.transform(X_train)\n",
    "X_test = scaler.transform(X_test)"
   ]
  },
  {
   "cell_type": "markdown",
   "metadata": {
    "id": "OsAGjlP8YGAJ"
   },
   "source": [
    "## Modelling"
   ]
  },
  {
   "cell_type": "code",
   "execution_count": 27,
   "metadata": {
    "id": "q660_m04YGAJ"
   },
   "outputs": [],
   "source": [
    "import tensorflow as tf"
   ]
  },
  {
   "cell_type": "code",
   "execution_count": 28,
   "metadata": {
    "id": "nfNl-tmAYGAJ"
   },
   "outputs": [],
   "source": [
    "from tensorflow.keras.models import Sequential\n",
    "from tensorflow.keras.layers import Input,Dense, Activation"
   ]
  },
  {
   "cell_type": "code",
   "execution_count": 29,
   "metadata": {
    "id": "7OEp6qC5YGAK",
    "outputId": "f9d7a8e4-0a11-4c5a-8207-a5031204bac5"
   },
   "outputs": [
    {
     "data": {
      "text/plain": [
       "(700, 2)"
      ]
     },
     "execution_count": 29,
     "metadata": {},
     "output_type": "execute_result"
    }
   ],
   "source": [
    "X_train.shape"
   ]
  },
  {
   "cell_type": "code",
   "execution_count": 30,
   "metadata": {
    "id": "qckVKgVCYGAK"
   },
   "outputs": [
    {
     "name": "stderr",
     "output_type": "stream",
     "text": [
      "2022-09-14 23:18:44.259080: I tensorflow/core/platform/cpu_feature_guard.cc:193] This TensorFlow binary is optimized with oneAPI Deep Neural Network Library (oneDNN) to use the following CPU instructions in performance-critical operations:  SSE4.1 SSE4.2 AVX AVX2 FMA\n",
      "To enable them in other operations, rebuild TensorFlow with the appropriate compiler flags.\n"
     ]
    }
   ],
   "source": [
    "# First way to create model\n",
    "\n",
    "model = Sequential([Input(shape = X_train.shape[1]),\n",
    "                    Dense(units = 4, activation = \"relu\"),\n",
    "                    Dense(units = 4, activation = \"relu\"),\n",
    "                    Dense(units = 4, activation = \"relu\"),\n",
    "                    Dense(units = 1)])"
   ]
  },
  {
   "cell_type": "code",
   "execution_count": 31,
   "metadata": {
    "id": "nuCWh5vdYGAL"
   },
   "outputs": [],
   "source": [
    "# Second way to create model (recommended)\n",
    "\n",
    "model = Sequential()\n",
    "#model.add(Input(shape = X_train.shape[1]))\n",
    "model.add(Dense(units = 4, activation = \"relu\", input_dim = X_train.shape[1]))\n",
    "model.add(Dense(units = 4, activation = \"relu\"))\n",
    "model.add(Dense(units = 4, activation = \"relu\"))\n",
    "model.add(Dense(units = 1))"
   ]
  },
  {
   "cell_type": "code",
   "execution_count": 32,
   "metadata": {
    "id": "Bj4tisKlYGAL",
    "outputId": "dc03782f-ec70-48e3-dd3c-2c810618630e"
   },
   "outputs": [
    {
     "name": "stdout",
     "output_type": "stream",
     "text": [
      "Model: \"sequential_1\"\n",
      "_________________________________________________________________\n",
      " Layer (type)                Output Shape              Param #   \n",
      "=================================================================\n",
      " dense_4 (Dense)             (None, 4)                 12        \n",
      "                                                                 \n",
      " dense_5 (Dense)             (None, 4)                 20        \n",
      "                                                                 \n",
      " dense_6 (Dense)             (None, 4)                 20        \n",
      "                                                                 \n",
      " dense_7 (Dense)             (None, 1)                 5         \n",
      "                                                                 \n",
      "=================================================================\n",
      "Total params: 57\n",
      "Trainable params: 57\n",
      "Non-trainable params: 0\n",
      "_________________________________________________________________\n"
     ]
    }
   ],
   "source": [
    "model.summary()"
   ]
  },
  {
   "cell_type": "code",
   "execution_count": 33,
   "metadata": {
    "id": "CwMFcvfgYGAM",
    "outputId": "e2f45f9a-d539-4832-f7c9-f32c8f5e0e39"
   },
   "outputs": [
    {
     "data": {
      "text/plain": [
       "[<tf.Variable 'dense_4/kernel:0' shape=(2, 4) dtype=float32, numpy=\n",
       " array([[ 0.79375887,  0.8829224 , -0.23999763, -0.8640096 ],\n",
       "        [ 0.7571981 , -0.24625683,  0.57942605,  0.89474916]],\n",
       "       dtype=float32)>,\n",
       " <tf.Variable 'dense_4/bias:0' shape=(4,) dtype=float32, numpy=array([0., 0., 0., 0.], dtype=float32)>,\n",
       " <tf.Variable 'dense_5/kernel:0' shape=(4, 4) dtype=float32, numpy=\n",
       " array([[ 0.08255613,  0.5231032 ,  0.80517286, -0.3005768 ],\n",
       "        [ 0.5987964 ,  0.04244703,  0.32029074,  0.44519073],\n",
       "        [ 0.2942987 ,  0.41889387,  0.17633587, -0.25674015],\n",
       "        [ 0.41964787, -0.10501456,  0.45965153,  0.61793166]],\n",
       "       dtype=float32)>,\n",
       " <tf.Variable 'dense_5/bias:0' shape=(4,) dtype=float32, numpy=array([0., 0., 0., 0.], dtype=float32)>,\n",
       " <tf.Variable 'dense_6/kernel:0' shape=(4, 4) dtype=float32, numpy=\n",
       " array([[ 0.00775588, -0.5457189 ,  0.50599724, -0.05053246],\n",
       "        [-0.7541178 , -0.70115405, -0.3401094 , -0.8445281 ],\n",
       "        [-0.39336693, -0.01740265,  0.28944856,  0.6150052 ],\n",
       "        [-0.4079795 , -0.44643843,  0.4549927 ,  0.4926377 ]],\n",
       "       dtype=float32)>,\n",
       " <tf.Variable 'dense_6/bias:0' shape=(4,) dtype=float32, numpy=array([0., 0., 0., 0.], dtype=float32)>,\n",
       " <tf.Variable 'dense_7/kernel:0' shape=(4, 1) dtype=float32, numpy=\n",
       " array([[-0.16252285],\n",
       "        [ 0.38212776],\n",
       "        [ 0.7926105 ],\n",
       "        [-0.692479  ]], dtype=float32)>,\n",
       " <tf.Variable 'dense_7/bias:0' shape=(1,) dtype=float32, numpy=array([0.], dtype=float32)>]"
      ]
     },
     "execution_count": 33,
     "metadata": {},
     "output_type": "execute_result"
    }
   ],
   "source": [
    "model.weights"
   ]
  },
  {
   "cell_type": "markdown",
   "metadata": {
    "id": "kz14aXjQYGAM"
   },
   "source": [
    "### Choosing an optimizer and loss\n",
    "\n",
    "Keep in mind what kind of problem you are trying to solve:\n",
    "\n",
    "    # For a multi-class classification problem\n",
    "    model.compile(optimizer='rmsprop',\n",
    "                  loss='categorical_crossentropy',\n",
    "                  metrics=['accuracy'])\n",
    "\n",
    "    # For a binary classification problem\n",
    "    model.compile(optimizer='rmsprop',\n",
    "                  loss='binary_crossentropy',\n",
    "                  metrics=['accuracy'])\n",
    "\n",
    "    # For a mean squared error regression problem\n",
    "    model.compile(optimizer='rmsprop',\n",
    "                  loss='mse')"
   ]
  },
  {
   "cell_type": "code",
   "execution_count": 34,
   "metadata": {
    "id": "llcb_-x4YGAN"
   },
   "outputs": [],
   "source": [
    "model.compile(optimizer = \"rmsprop\", loss = \"mse\")"
   ]
  },
  {
   "cell_type": "code",
   "execution_count": 35,
   "metadata": {
    "id": "x5x1CSf0YGAN",
    "outputId": "41e77dce-6d1d-4946-fd1a-80ddd669ce91"
   },
   "outputs": [
    {
     "name": "stdout",
     "output_type": "stream",
     "text": [
      "Epoch 1/250\n",
      "22/22 [==============================] - 0s 1ms/step - loss: 256437.7812\n",
      "Epoch 2/250\n",
      "22/22 [==============================] - 0s 945us/step - loss: 256208.0469\n",
      "Epoch 3/250\n",
      "22/22 [==============================] - 0s 938us/step - loss: 255944.4531\n",
      "Epoch 4/250\n",
      "22/22 [==============================] - 0s 950us/step - loss: 255638.3125\n",
      "Epoch 5/250\n",
      "22/22 [==============================] - 0s 942us/step - loss: 255283.1094\n",
      "Epoch 6/250\n",
      "22/22 [==============================] - 0s 801us/step - loss: 254875.8125\n",
      "Epoch 7/250\n",
      "22/22 [==============================] - 0s 978us/step - loss: 254413.7656\n",
      "Epoch 8/250\n",
      "22/22 [==============================] - 0s 980us/step - loss: 253895.2656\n",
      "Epoch 9/250\n",
      "22/22 [==============================] - 0s 844us/step - loss: 253320.2500\n",
      "Epoch 10/250\n",
      "22/22 [==============================] - 0s 858us/step - loss: 252679.6562\n",
      "Epoch 11/250\n",
      "22/22 [==============================] - 0s 906us/step - loss: 251970.2188\n",
      "Epoch 12/250\n",
      "22/22 [==============================] - 0s 919us/step - loss: 251187.2031\n",
      "Epoch 13/250\n",
      "22/22 [==============================] - 0s 976us/step - loss: 250331.5938\n",
      "Epoch 14/250\n",
      "22/22 [==============================] - 0s 898us/step - loss: 249390.2344\n",
      "Epoch 15/250\n",
      "22/22 [==============================] - 0s 802us/step - loss: 248359.4531\n",
      "Epoch 16/250\n",
      "22/22 [==============================] - 0s 911us/step - loss: 247237.4375\n",
      "Epoch 17/250\n",
      "22/22 [==============================] - 0s 857us/step - loss: 246010.0156\n",
      "Epoch 18/250\n",
      "22/22 [==============================] - 0s 891us/step - loss: 244673.2344\n",
      "Epoch 19/250\n",
      "22/22 [==============================] - 0s 933us/step - loss: 243219.5938\n",
      "Epoch 20/250\n",
      "22/22 [==============================] - 0s 927us/step - loss: 241641.5156\n",
      "Epoch 21/250\n",
      "22/22 [==============================] - 0s 898us/step - loss: 239937.0469\n",
      "Epoch 22/250\n",
      "22/22 [==============================] - 0s 1ms/step - loss: 238106.7188\n",
      "Epoch 23/250\n",
      "22/22 [==============================] - 0s 985us/step - loss: 236128.7344\n",
      "Epoch 24/250\n",
      "22/22 [==============================] - 0s 779us/step - loss: 233994.8594\n",
      "Epoch 25/250\n",
      "22/22 [==============================] - 0s 912us/step - loss: 231732.7969\n",
      "Epoch 26/250\n",
      "22/22 [==============================] - 0s 922us/step - loss: 229317.3281\n",
      "Epoch 27/250\n",
      "22/22 [==============================] - 0s 992us/step - loss: 226733.7188\n",
      "Epoch 28/250\n",
      "22/22 [==============================] - 0s 873us/step - loss: 223981.8125\n",
      "Epoch 29/250\n",
      "22/22 [==============================] - 0s 927us/step - loss: 221062.3750\n",
      "Epoch 30/250\n",
      "22/22 [==============================] - 0s 1ms/step - loss: 217969.7656\n",
      "Epoch 31/250\n",
      "22/22 [==============================] - 0s 914us/step - loss: 214695.7969\n",
      "Epoch 32/250\n",
      "22/22 [==============================] - 0s 900us/step - loss: 211224.9219\n",
      "Epoch 33/250\n",
      "22/22 [==============================] - 0s 1ms/step - loss: 207585.3438\n",
      "Epoch 34/250\n",
      "22/22 [==============================] - 0s 885us/step - loss: 203763.4219\n",
      "Epoch 35/250\n",
      "22/22 [==============================] - 0s 774us/step - loss: 199745.0781\n",
      "Epoch 36/250\n",
      "22/22 [==============================] - 0s 1ms/step - loss: 195542.4844\n",
      "Epoch 37/250\n",
      "22/22 [==============================] - 0s 902us/step - loss: 191122.6562\n",
      "Epoch 38/250\n",
      "22/22 [==============================] - 0s 930us/step - loss: 186542.3125\n",
      "Epoch 39/250\n",
      "22/22 [==============================] - 0s 1ms/step - loss: 181766.7812\n",
      "Epoch 40/250\n",
      "22/22 [==============================] - 0s 936us/step - loss: 176788.5469\n",
      "Epoch 41/250\n",
      "22/22 [==============================] - 0s 1ms/step - loss: 171625.4219\n",
      "Epoch 42/250\n",
      "22/22 [==============================] - 0s 1ms/step - loss: 166313.1875\n",
      "Epoch 43/250\n",
      "22/22 [==============================] - 0s 924us/step - loss: 160740.9219\n",
      "Epoch 44/250\n",
      "22/22 [==============================] - 0s 1ms/step - loss: 155025.4688\n",
      "Epoch 45/250\n",
      "22/22 [==============================] - 0s 1ms/step - loss: 149160.0781\n",
      "Epoch 46/250\n",
      "22/22 [==============================] - 0s 993us/step - loss: 143113.7031\n",
      "Epoch 47/250\n",
      "22/22 [==============================] - 0s 1ms/step - loss: 136926.3594\n",
      "Epoch 48/250\n",
      "22/22 [==============================] - 0s 939us/step - loss: 130608.5000\n",
      "Epoch 49/250\n",
      "22/22 [==============================] - 0s 956us/step - loss: 124138.3203\n",
      "Epoch 50/250\n",
      "22/22 [==============================] - 0s 937us/step - loss: 117589.4297\n",
      "Epoch 51/250\n",
      "22/22 [==============================] - 0s 990us/step - loss: 110923.1875\n",
      "Epoch 52/250\n",
      "22/22 [==============================] - 0s 937us/step - loss: 104154.9062\n",
      "Epoch 53/250\n",
      "22/22 [==============================] - 0s 869us/step - loss: 97375.7344\n",
      "Epoch 54/250\n",
      "22/22 [==============================] - 0s 1ms/step - loss: 90567.2578\n",
      "Epoch 55/250\n",
      "22/22 [==============================] - 0s 878us/step - loss: 83714.4609\n",
      "Epoch 56/250\n",
      "22/22 [==============================] - 0s 787us/step - loss: 76864.5234\n",
      "Epoch 57/250\n",
      "22/22 [==============================] - 0s 938us/step - loss: 70066.1016\n",
      "Epoch 58/250\n",
      "22/22 [==============================] - 0s 954us/step - loss: 63371.4297\n",
      "Epoch 59/250\n",
      "22/22 [==============================] - 0s 836us/step - loss: 56776.3125\n",
      "Epoch 60/250\n",
      "22/22 [==============================] - 0s 927us/step - loss: 50327.4961\n",
      "Epoch 61/250\n",
      "22/22 [==============================] - 0s 1ms/step - loss: 44082.0586\n",
      "Epoch 62/250\n",
      "22/22 [==============================] - 0s 809us/step - loss: 38045.8945\n",
      "Epoch 63/250\n",
      "22/22 [==============================] - 0s 947us/step - loss: 32315.8828\n",
      "Epoch 64/250\n",
      "22/22 [==============================] - 0s 966us/step - loss: 26914.9141\n",
      "Epoch 65/250\n",
      "22/22 [==============================] - 0s 962us/step - loss: 21890.7090\n",
      "Epoch 66/250\n",
      "22/22 [==============================] - 0s 971us/step - loss: 17289.5996\n",
      "Epoch 67/250\n",
      "22/22 [==============================] - 0s 1ms/step - loss: 13195.6670\n",
      "Epoch 68/250\n",
      "22/22 [==============================] - 0s 886us/step - loss: 9618.1973\n",
      "Epoch 69/250\n",
      "22/22 [==============================] - 0s 884us/step - loss: 6657.2427\n",
      "Epoch 70/250\n",
      "22/22 [==============================] - 0s 991us/step - loss: 4359.9248\n",
      "Epoch 71/250\n",
      "22/22 [==============================] - 0s 891us/step - loss: 2737.5500\n",
      "Epoch 72/250\n",
      "22/22 [==============================] - 0s 951us/step - loss: 1829.2897\n",
      "Epoch 73/250\n",
      "22/22 [==============================] - 0s 946us/step - loss: 1468.6388\n",
      "Epoch 74/250\n",
      "22/22 [==============================] - 0s 917us/step - loss: 1384.0472\n",
      "Epoch 75/250\n",
      "22/22 [==============================] - 0s 814us/step - loss: 1354.7427\n",
      "Epoch 76/250\n",
      "22/22 [==============================] - 0s 905us/step - loss: 1323.3203\n",
      "Epoch 77/250\n",
      "22/22 [==============================] - 0s 894us/step - loss: 1291.4449\n",
      "Epoch 78/250\n",
      "22/22 [==============================] - 0s 836us/step - loss: 1261.5367\n",
      "Epoch 79/250\n",
      "22/22 [==============================] - 0s 839us/step - loss: 1230.6405\n",
      "Epoch 80/250\n",
      "22/22 [==============================] - 0s 902us/step - loss: 1195.5450\n",
      "Epoch 81/250\n",
      "22/22 [==============================] - 0s 955us/step - loss: 1165.0873\n",
      "Epoch 82/250\n",
      "22/22 [==============================] - 0s 853us/step - loss: 1126.6388\n",
      "Epoch 83/250\n",
      "22/22 [==============================] - 0s 868us/step - loss: 1098.1581\n",
      "Epoch 84/250\n",
      "22/22 [==============================] - 0s 894us/step - loss: 1065.2115\n",
      "Epoch 85/250\n",
      "22/22 [==============================] - 0s 1ms/step - loss: 1038.5803\n",
      "Epoch 86/250\n",
      "22/22 [==============================] - 0s 900us/step - loss: 1007.7374\n",
      "Epoch 87/250\n",
      "22/22 [==============================] - 0s 875us/step - loss: 980.1000\n",
      "Epoch 88/250\n",
      "22/22 [==============================] - 0s 855us/step - loss: 951.5048\n",
      "Epoch 89/250\n",
      "22/22 [==============================] - 0s 1ms/step - loss: 921.1070\n",
      "Epoch 90/250\n",
      "22/22 [==============================] - 0s 915us/step - loss: 893.2714\n",
      "Epoch 91/250\n",
      "22/22 [==============================] - 0s 811us/step - loss: 867.4248\n",
      "Epoch 92/250\n",
      "22/22 [==============================] - 0s 931us/step - loss: 839.1010\n",
      "Epoch 93/250\n",
      "22/22 [==============================] - 0s 1ms/step - loss: 811.0172\n",
      "Epoch 94/250\n",
      "22/22 [==============================] - 0s 975us/step - loss: 782.3725\n",
      "Epoch 95/250\n",
      "22/22 [==============================] - 0s 906us/step - loss: 754.7679\n",
      "Epoch 96/250\n",
      "22/22 [==============================] - 0s 1ms/step - loss: 731.5162\n",
      "Epoch 97/250\n",
      "22/22 [==============================] - 0s 1ms/step - loss: 705.6311\n",
      "Epoch 98/250\n",
      "22/22 [==============================] - 0s 1ms/step - loss: 684.2150\n",
      "Epoch 99/250\n",
      "22/22 [==============================] - 0s 1ms/step - loss: 660.5774\n",
      "Epoch 100/250\n",
      "22/22 [==============================] - 0s 1ms/step - loss: 636.9878\n",
      "Epoch 101/250\n",
      "22/22 [==============================] - 0s 945us/step - loss: 615.5789\n",
      "Epoch 102/250\n",
      "22/22 [==============================] - 0s 929us/step - loss: 592.4800\n",
      "Epoch 103/250\n",
      "22/22 [==============================] - 0s 908us/step - loss: 570.5970\n",
      "Epoch 104/250\n",
      "22/22 [==============================] - 0s 998us/step - loss: 550.0759\n",
      "Epoch 105/250\n",
      "22/22 [==============================] - 0s 2ms/step - loss: 527.7427\n",
      "Epoch 106/250\n",
      "22/22 [==============================] - 0s 921us/step - loss: 507.5502\n",
      "Epoch 107/250\n",
      "22/22 [==============================] - 0s 874us/step - loss: 485.2715\n",
      "Epoch 108/250\n",
      "22/22 [==============================] - 0s 868us/step - loss: 466.0428\n",
      "Epoch 109/250\n",
      "22/22 [==============================] - 0s 894us/step - loss: 447.8268\n",
      "Epoch 110/250\n",
      "22/22 [==============================] - 0s 1ms/step - loss: 428.2726\n",
      "Epoch 111/250\n",
      "22/22 [==============================] - 0s 1ms/step - loss: 407.5625\n",
      "Epoch 112/250\n",
      "22/22 [==============================] - 0s 903us/step - loss: 387.8408\n",
      "Epoch 113/250\n",
      "22/22 [==============================] - 0s 860us/step - loss: 367.3707\n",
      "Epoch 114/250\n",
      "22/22 [==============================] - 0s 892us/step - loss: 351.4084\n",
      "Epoch 115/250\n",
      "22/22 [==============================] - 0s 758us/step - loss: 333.0410\n",
      "Epoch 116/250\n",
      "22/22 [==============================] - 0s 913us/step - loss: 313.9389\n",
      "Epoch 117/250\n",
      "22/22 [==============================] - 0s 872us/step - loss: 296.1493\n",
      "Epoch 118/250\n",
      "22/22 [==============================] - 0s 935us/step - loss: 281.3754\n",
      "Epoch 119/250\n",
      "22/22 [==============================] - 0s 953us/step - loss: 264.6806\n",
      "Epoch 120/250\n",
      "22/22 [==============================] - 0s 909us/step - loss: 247.8318\n",
      "Epoch 121/250\n",
      "22/22 [==============================] - 0s 1ms/step - loss: 235.4056\n",
      "Epoch 122/250\n",
      "22/22 [==============================] - 0s 957us/step - loss: 221.0354\n",
      "Epoch 123/250\n",
      "22/22 [==============================] - 0s 857us/step - loss: 208.4468\n",
      "Epoch 124/250\n",
      "22/22 [==============================] - 0s 944us/step - loss: 196.2893\n",
      "Epoch 125/250\n",
      "22/22 [==============================] - 0s 894us/step - loss: 184.3129\n",
      "Epoch 126/250\n",
      "22/22 [==============================] - 0s 1ms/step - loss: 173.5487\n",
      "Epoch 127/250\n",
      "22/22 [==============================] - 0s 883us/step - loss: 164.5203\n",
      "Epoch 128/250\n",
      "22/22 [==============================] - 0s 945us/step - loss: 153.9173\n",
      "Epoch 129/250\n",
      "22/22 [==============================] - 0s 983us/step - loss: 145.1417\n",
      "Epoch 130/250\n",
      "22/22 [==============================] - 0s 930us/step - loss: 135.5213\n",
      "Epoch 131/250\n",
      "22/22 [==============================] - 0s 884us/step - loss: 125.6275\n",
      "Epoch 132/250\n",
      "22/22 [==============================] - 0s 1ms/step - loss: 119.5115\n",
      "Epoch 133/250\n",
      "22/22 [==============================] - 0s 850us/step - loss: 110.3489\n",
      "Epoch 134/250\n",
      "22/22 [==============================] - 0s 1ms/step - loss: 103.8426\n",
      "Epoch 135/250\n",
      "22/22 [==============================] - 0s 882us/step - loss: 96.0494\n",
      "Epoch 136/250\n",
      "22/22 [==============================] - 0s 868us/step - loss: 88.9787\n",
      "Epoch 137/250\n",
      "22/22 [==============================] - 0s 949us/step - loss: 82.4335\n",
      "Epoch 138/250\n",
      "22/22 [==============================] - 0s 864us/step - loss: 76.3875\n",
      "Epoch 139/250\n",
      "22/22 [==============================] - 0s 889us/step - loss: 70.6798\n",
      "Epoch 140/250\n",
      "22/22 [==============================] - 0s 983us/step - loss: 65.8898\n",
      "Epoch 141/250\n",
      "22/22 [==============================] - 0s 874us/step - loss: 60.5740\n",
      "Epoch 142/250\n",
      "22/22 [==============================] - 0s 834us/step - loss: 55.6815\n",
      "Epoch 143/250\n",
      "22/22 [==============================] - 0s 939us/step - loss: 51.1860\n",
      "Epoch 144/250\n",
      "22/22 [==============================] - 0s 870us/step - loss: 48.4036\n",
      "Epoch 145/250\n",
      "22/22 [==============================] - 0s 969us/step - loss: 45.3689\n",
      "Epoch 146/250\n",
      "22/22 [==============================] - 0s 829us/step - loss: 41.7693\n",
      "Epoch 147/250\n",
      "22/22 [==============================] - 0s 940us/step - loss: 39.6921\n",
      "Epoch 148/250\n",
      "22/22 [==============================] - 0s 906us/step - loss: 37.6906\n",
      "Epoch 149/250\n",
      "22/22 [==============================] - 0s 1ms/step - loss: 35.6544\n",
      "Epoch 150/250\n",
      "22/22 [==============================] - 0s 1000us/step - loss: 34.3245\n",
      "Epoch 151/250\n",
      "22/22 [==============================] - 0s 1ms/step - loss: 32.6141\n",
      "Epoch 152/250\n",
      "22/22 [==============================] - 0s 905us/step - loss: 31.0096\n",
      "Epoch 153/250\n",
      "22/22 [==============================] - 0s 939us/step - loss: 30.2061\n",
      "Epoch 154/250\n",
      "22/22 [==============================] - 0s 945us/step - loss: 28.8982\n",
      "Epoch 155/250\n",
      "22/22 [==============================] - 0s 938us/step - loss: 28.1997\n",
      "Epoch 156/250\n",
      "22/22 [==============================] - 0s 1ms/step - loss: 28.0092\n",
      "Epoch 157/250\n",
      "22/22 [==============================] - 0s 961us/step - loss: 27.5097\n",
      "Epoch 158/250\n",
      "22/22 [==============================] - 0s 922us/step - loss: 26.6860\n",
      "Epoch 159/250\n",
      "22/22 [==============================] - 0s 1ms/step - loss: 26.6018\n",
      "Epoch 160/250\n",
      "22/22 [==============================] - 0s 1ms/step - loss: 25.9655\n",
      "Epoch 161/250\n",
      "22/22 [==============================] - 0s 1ms/step - loss: 25.9441\n",
      "Epoch 162/250\n",
      "22/22 [==============================] - 0s 967us/step - loss: 25.1486\n",
      "Epoch 163/250\n",
      "22/22 [==============================] - 0s 1ms/step - loss: 25.1607\n",
      "Epoch 164/250\n",
      "22/22 [==============================] - 0s 1ms/step - loss: 25.1895\n",
      "Epoch 165/250\n",
      "22/22 [==============================] - 0s 1ms/step - loss: 24.6573\n",
      "Epoch 166/250\n",
      "22/22 [==============================] - 0s 1ms/step - loss: 24.6836\n",
      "Epoch 167/250\n",
      "22/22 [==============================] - 0s 955us/step - loss: 24.6951\n",
      "Epoch 168/250\n",
      "22/22 [==============================] - 0s 954us/step - loss: 24.8570\n",
      "Epoch 169/250\n",
      "22/22 [==============================] - 0s 1ms/step - loss: 24.3659\n",
      "Epoch 170/250\n",
      "22/22 [==============================] - 0s 965us/step - loss: 24.9707\n",
      "Epoch 171/250\n",
      "22/22 [==============================] - 0s 990us/step - loss: 24.2133\n",
      "Epoch 172/250\n",
      "22/22 [==============================] - 0s 920us/step - loss: 24.4457\n",
      "Epoch 173/250\n",
      "22/22 [==============================] - 0s 924us/step - loss: 24.6462\n",
      "Epoch 174/250\n",
      "22/22 [==============================] - 0s 851us/step - loss: 24.5050\n",
      "Epoch 175/250\n",
      "22/22 [==============================] - 0s 922us/step - loss: 24.2640\n",
      "Epoch 176/250\n",
      "22/22 [==============================] - 0s 1ms/step - loss: 24.5418\n",
      "Epoch 177/250\n",
      "22/22 [==============================] - 0s 953us/step - loss: 24.5727\n",
      "Epoch 178/250\n",
      "22/22 [==============================] - 0s 960us/step - loss: 24.4666\n",
      "Epoch 179/250\n",
      "22/22 [==============================] - 0s 1ms/step - loss: 23.9688\n",
      "Epoch 180/250\n",
      "22/22 [==============================] - 0s 931us/step - loss: 24.4509\n",
      "Epoch 181/250\n",
      "22/22 [==============================] - 0s 948us/step - loss: 24.3399\n",
      "Epoch 182/250\n",
      "22/22 [==============================] - 0s 914us/step - loss: 24.4902\n",
      "Epoch 183/250\n",
      "22/22 [==============================] - 0s 877us/step - loss: 24.3449\n",
      "Epoch 184/250\n",
      "22/22 [==============================] - 0s 918us/step - loss: 24.2427\n",
      "Epoch 185/250\n",
      "22/22 [==============================] - 0s 1ms/step - loss: 24.4603\n",
      "Epoch 186/250\n",
      "22/22 [==============================] - 0s 891us/step - loss: 24.2123\n",
      "Epoch 187/250\n",
      "22/22 [==============================] - 0s 996us/step - loss: 24.7466\n",
      "Epoch 188/250\n",
      "22/22 [==============================] - 0s 907us/step - loss: 24.1273\n",
      "Epoch 189/250\n",
      "22/22 [==============================] - 0s 905us/step - loss: 24.4190\n",
      "Epoch 190/250\n",
      "22/22 [==============================] - 0s 1ms/step - loss: 24.6858\n",
      "Epoch 191/250\n",
      "22/22 [==============================] - 0s 909us/step - loss: 24.4882\n",
      "Epoch 192/250\n",
      "22/22 [==============================] - 0s 966us/step - loss: 24.4087\n",
      "Epoch 193/250\n",
      "22/22 [==============================] - 0s 928us/step - loss: 24.4048\n",
      "Epoch 194/250\n",
      "22/22 [==============================] - 0s 883us/step - loss: 24.0802\n",
      "Epoch 195/250\n",
      "22/22 [==============================] - 0s 952us/step - loss: 24.3675\n",
      "Epoch 196/250\n",
      "22/22 [==============================] - 0s 978us/step - loss: 24.3191\n",
      "Epoch 197/250\n",
      "22/22 [==============================] - 0s 899us/step - loss: 24.2306\n",
      "Epoch 198/250\n",
      "22/22 [==============================] - 0s 839us/step - loss: 24.6405\n",
      "Epoch 199/250\n",
      "22/22 [==============================] - 0s 854us/step - loss: 24.3110\n",
      "Epoch 200/250\n",
      "22/22 [==============================] - 0s 955us/step - loss: 24.5009\n",
      "Epoch 201/250\n",
      "22/22 [==============================] - 0s 1ms/step - loss: 24.4477\n",
      "Epoch 202/250\n",
      "22/22 [==============================] - 0s 884us/step - loss: 24.7767\n",
      "Epoch 203/250\n",
      "22/22 [==============================] - 0s 940us/step - loss: 24.0848\n",
      "Epoch 204/250\n",
      "22/22 [==============================] - 0s 1ms/step - loss: 24.2386\n",
      "Epoch 205/250\n",
      "22/22 [==============================] - 0s 932us/step - loss: 24.7062\n",
      "Epoch 206/250\n",
      "22/22 [==============================] - 0s 1ms/step - loss: 24.0460\n",
      "Epoch 207/250\n",
      "22/22 [==============================] - 0s 953us/step - loss: 24.5131\n",
      "Epoch 208/250\n",
      "22/22 [==============================] - 0s 967us/step - loss: 24.1182\n",
      "Epoch 209/250\n",
      "22/22 [==============================] - 0s 992us/step - loss: 24.1847\n",
      "Epoch 210/250\n",
      "22/22 [==============================] - 0s 897us/step - loss: 24.3193\n",
      "Epoch 211/250\n",
      "22/22 [==============================] - 0s 1ms/step - loss: 24.3730\n",
      "Epoch 212/250\n",
      "22/22 [==============================] - 0s 897us/step - loss: 24.2667\n",
      "Epoch 213/250\n",
      "22/22 [==============================] - 0s 1ms/step - loss: 24.2601\n",
      "Epoch 214/250\n",
      "22/22 [==============================] - 0s 967us/step - loss: 24.0618\n",
      "Epoch 215/250\n",
      "22/22 [==============================] - 0s 948us/step - loss: 24.2419\n",
      "Epoch 216/250\n",
      "22/22 [==============================] - 0s 1ms/step - loss: 24.1347\n",
      "Epoch 217/250\n",
      "22/22 [==============================] - 0s 986us/step - loss: 24.5133\n",
      "Epoch 218/250\n",
      "22/22 [==============================] - 0s 893us/step - loss: 24.2827\n",
      "Epoch 219/250\n",
      "22/22 [==============================] - 0s 973us/step - loss: 24.3383\n",
      "Epoch 220/250\n",
      "22/22 [==============================] - 0s 918us/step - loss: 24.0467\n",
      "Epoch 221/250\n",
      "22/22 [==============================] - 0s 946us/step - loss: 24.6316\n",
      "Epoch 222/250\n",
      "22/22 [==============================] - 0s 930us/step - loss: 24.3100\n",
      "Epoch 223/250\n",
      "22/22 [==============================] - 0s 1ms/step - loss: 24.3750\n",
      "Epoch 224/250\n",
      "22/22 [==============================] - 0s 962us/step - loss: 24.5173\n",
      "Epoch 225/250\n",
      "22/22 [==============================] - 0s 1ms/step - loss: 24.0872\n",
      "Epoch 226/250\n",
      "22/22 [==============================] - 0s 942us/step - loss: 24.4247\n",
      "Epoch 227/250\n",
      "22/22 [==============================] - 0s 873us/step - loss: 24.1431\n",
      "Epoch 228/250\n",
      "22/22 [==============================] - 0s 912us/step - loss: 24.2948\n",
      "Epoch 229/250\n",
      "22/22 [==============================] - 0s 890us/step - loss: 24.6396\n",
      "Epoch 230/250\n",
      "22/22 [==============================] - 0s 962us/step - loss: 24.0379\n",
      "Epoch 231/250\n",
      "22/22 [==============================] - 0s 1ms/step - loss: 24.3612\n",
      "Epoch 232/250\n",
      "22/22 [==============================] - 0s 983us/step - loss: 24.7363\n",
      "Epoch 233/250\n",
      "22/22 [==============================] - 0s 954us/step - loss: 24.1089\n",
      "Epoch 234/250\n",
      "22/22 [==============================] - 0s 898us/step - loss: 24.3122\n",
      "Epoch 235/250\n",
      "22/22 [==============================] - 0s 1ms/step - loss: 24.4366\n",
      "Epoch 236/250\n",
      "22/22 [==============================] - 0s 869us/step - loss: 24.4847\n",
      "Epoch 237/250\n",
      "22/22 [==============================] - 0s 1ms/step - loss: 24.0856\n",
      "Epoch 238/250\n",
      "22/22 [==============================] - 0s 817us/step - loss: 24.4890\n",
      "Epoch 239/250\n",
      "22/22 [==============================] - 0s 1ms/step - loss: 24.1229\n",
      "Epoch 240/250\n",
      "22/22 [==============================] - 0s 1ms/step - loss: 24.1251\n",
      "Epoch 241/250\n",
      "22/22 [==============================] - 0s 1ms/step - loss: 24.0192\n",
      "Epoch 242/250\n",
      "22/22 [==============================] - 0s 924us/step - loss: 24.3278\n",
      "Epoch 243/250\n",
      "22/22 [==============================] - 0s 926us/step - loss: 24.4199\n",
      "Epoch 244/250\n",
      "22/22 [==============================] - 0s 1ms/step - loss: 24.0601\n",
      "Epoch 245/250\n",
      "22/22 [==============================] - 0s 914us/step - loss: 24.2695\n",
      "Epoch 246/250\n",
      "22/22 [==============================] - 0s 1ms/step - loss: 24.5541\n",
      "Epoch 247/250\n",
      "22/22 [==============================] - 0s 873us/step - loss: 24.3214\n",
      "Epoch 248/250\n",
      "22/22 [==============================] - 0s 946us/step - loss: 24.5939\n",
      "Epoch 249/250\n",
      "22/22 [==============================] - 0s 934us/step - loss: 24.0387\n",
      "Epoch 250/250\n",
      "22/22 [==============================] - 0s 879us/step - loss: 24.6069\n"
     ]
    },
    {
     "data": {
      "text/plain": [
       "<keras.callbacks.History at 0x18f24da20>"
      ]
     },
     "execution_count": 35,
     "metadata": {},
     "output_type": "execute_result"
    }
   ],
   "source": [
    "model.fit(x = X_train, y = y_train, batch_size = 32, epochs = 250)"
   ]
  },
  {
   "cell_type": "code",
   "execution_count": 36,
   "metadata": {
    "id": "Ae4ruPDCYGAN",
    "outputId": "026c85d0-38f4-4142-f814-809dfceb4751"
   },
   "outputs": [
    {
     "name": "stdout",
     "output_type": "stream",
     "text": [
      "Model: \"sequential_1\"\n",
      "_________________________________________________________________\n",
      " Layer (type)                Output Shape              Param #   \n",
      "=================================================================\n",
      " dense_4 (Dense)             (None, 4)                 12        \n",
      "                                                                 \n",
      " dense_5 (Dense)             (None, 4)                 20        \n",
      "                                                                 \n",
      " dense_6 (Dense)             (None, 4)                 20        \n",
      "                                                                 \n",
      " dense_7 (Dense)             (None, 1)                 5         \n",
      "                                                                 \n",
      "=================================================================\n",
      "Total params: 57\n",
      "Trainable params: 57\n",
      "Non-trainable params: 0\n",
      "_________________________________________________________________\n"
     ]
    }
   ],
   "source": [
    "model.summary()"
   ]
  },
  {
   "cell_type": "code",
   "execution_count": 37,
   "metadata": {
    "id": "t0f8HUqqYGAO",
    "outputId": "3211a0fc-9b00-4e5d-8acd-4c1db199d305"
   },
   "outputs": [
    {
     "data": {
      "text/plain": [
       "[<tf.Variable 'dense_4/kernel:0' shape=(2, 4) dtype=float32, numpy=\n",
       " array([[2.242972 , 2.3216634, 1.197247 , 0.5832625],\n",
       "        [3.3943624, 2.3803308, 3.2039857, 3.529429 ]], dtype=float32)>,\n",
       " <tf.Variable 'dense_4/bias:0' shape=(4,) dtype=float32, numpy=array([0.6799356 , 0.66994303, 0.6673785 , 0.67721784], dtype=float32)>,\n",
       " <tf.Variable 'dense_5/kernel:0' shape=(4, 4) dtype=float32, numpy=\n",
       " array([[1.860872 , 1.892767 , 2.5627933, 1.4979798],\n",
       "        [2.1871278, 1.1615882, 1.8909906, 2.0518177],\n",
       "        [2.1024435, 1.8858083, 1.9566119, 1.5674849],\n",
       "        [2.321373 , 1.527154 , 2.2966723, 2.5345213]], dtype=float32)>,\n",
       " <tf.Variable 'dense_5/bias:0' shape=(4,) dtype=float32, numpy=array([0.64890456, 0.28246891, 0.628652  , 0.6691632 ], dtype=float32)>,\n",
       " <tf.Variable 'dense_6/kernel:0' shape=(4, 4) dtype=float32, numpy=\n",
       " array([[ 0.00775588, -0.5457189 ,  2.2289877 , -0.2782988 ],\n",
       "        [-0.7541178 , -0.70115405,  1.394708  , -1.0604795 ],\n",
       "        [-0.39336693, -0.01740265,  2.0156572 ,  0.39249894],\n",
       "        [-0.4079795 , -0.44643843,  2.1979966 ,  0.24225907]],\n",
       "       dtype=float32)>,\n",
       " <tf.Variable 'dense_6/bias:0' shape=(4,) dtype=float32, numpy=array([ 0.        ,  0.        ,  0.6376989 , -0.21716866], dtype=float32)>,\n",
       " <tf.Variable 'dense_7/kernel:0' shape=(4, 1) dtype=float32, numpy=\n",
       " array([[-0.16252285],\n",
       "        [ 0.38212776],\n",
       "        [ 2.5226343 ],\n",
       "        [-0.51076806]], dtype=float32)>,\n",
       " <tf.Variable 'dense_7/bias:0' shape=(1,) dtype=float32, numpy=array([0.6283173], dtype=float32)>]"
      ]
     },
     "execution_count": 37,
     "metadata": {},
     "output_type": "execute_result"
    }
   ],
   "source": [
    "model.weights"
   ]
  },
  {
   "cell_type": "code",
   "execution_count": 38,
   "metadata": {
    "id": "kh61BRDfYGAO",
    "outputId": "eb6b8fe2-2b81-4515-ad98-d0f4c536fe94"
   },
   "outputs": [
    {
     "data": {
      "text/plain": [
       "{'loss': [256437.78125,\n",
       "  256208.046875,\n",
       "  255944.453125,\n",
       "  255638.3125,\n",
       "  255283.109375,\n",
       "  254875.8125,\n",
       "  254413.765625,\n",
       "  253895.265625,\n",
       "  253320.25,\n",
       "  252679.65625,\n",
       "  251970.21875,\n",
       "  251187.203125,\n",
       "  250331.59375,\n",
       "  249390.234375,\n",
       "  248359.453125,\n",
       "  247237.4375,\n",
       "  246010.015625,\n",
       "  244673.234375,\n",
       "  243219.59375,\n",
       "  241641.515625,\n",
       "  239937.046875,\n",
       "  238106.71875,\n",
       "  236128.734375,\n",
       "  233994.859375,\n",
       "  231732.796875,\n",
       "  229317.328125,\n",
       "  226733.71875,\n",
       "  223981.8125,\n",
       "  221062.375,\n",
       "  217969.765625,\n",
       "  214695.796875,\n",
       "  211224.921875,\n",
       "  207585.34375,\n",
       "  203763.421875,\n",
       "  199745.078125,\n",
       "  195542.484375,\n",
       "  191122.65625,\n",
       "  186542.3125,\n",
       "  181766.78125,\n",
       "  176788.546875,\n",
       "  171625.421875,\n",
       "  166313.1875,\n",
       "  160740.921875,\n",
       "  155025.46875,\n",
       "  149160.078125,\n",
       "  143113.703125,\n",
       "  136926.359375,\n",
       "  130608.5,\n",
       "  124138.3203125,\n",
       "  117589.4296875,\n",
       "  110923.1875,\n",
       "  104154.90625,\n",
       "  97375.734375,\n",
       "  90567.2578125,\n",
       "  83714.4609375,\n",
       "  76864.5234375,\n",
       "  70066.1015625,\n",
       "  63371.4296875,\n",
       "  56776.3125,\n",
       "  50327.49609375,\n",
       "  44082.05859375,\n",
       "  38045.89453125,\n",
       "  32315.8828125,\n",
       "  26914.9140625,\n",
       "  21890.708984375,\n",
       "  17289.599609375,\n",
       "  13195.6669921875,\n",
       "  9618.197265625,\n",
       "  6657.24267578125,\n",
       "  4359.9248046875,\n",
       "  2737.550048828125,\n",
       "  1829.2896728515625,\n",
       "  1468.6387939453125,\n",
       "  1384.0472412109375,\n",
       "  1354.74267578125,\n",
       "  1323.3203125,\n",
       "  1291.4449462890625,\n",
       "  1261.5367431640625,\n",
       "  1230.6405029296875,\n",
       "  1195.5450439453125,\n",
       "  1165.0872802734375,\n",
       "  1126.6387939453125,\n",
       "  1098.1580810546875,\n",
       "  1065.2115478515625,\n",
       "  1038.580322265625,\n",
       "  1007.7374267578125,\n",
       "  980.0999755859375,\n",
       "  951.5047607421875,\n",
       "  921.1069946289062,\n",
       "  893.2713623046875,\n",
       "  867.4248046875,\n",
       "  839.1009521484375,\n",
       "  811.0171508789062,\n",
       "  782.3724975585938,\n",
       "  754.7679443359375,\n",
       "  731.5162353515625,\n",
       "  705.631103515625,\n",
       "  684.2150268554688,\n",
       "  660.577392578125,\n",
       "  636.98779296875,\n",
       "  615.578857421875,\n",
       "  592.47998046875,\n",
       "  570.5970458984375,\n",
       "  550.0758666992188,\n",
       "  527.74267578125,\n",
       "  507.55023193359375,\n",
       "  485.271484375,\n",
       "  466.0428466796875,\n",
       "  447.8267822265625,\n",
       "  428.27264404296875,\n",
       "  407.5625,\n",
       "  387.84075927734375,\n",
       "  367.37066650390625,\n",
       "  351.4083557128906,\n",
       "  333.04095458984375,\n",
       "  313.9388732910156,\n",
       "  296.1492919921875,\n",
       "  281.3753662109375,\n",
       "  264.68060302734375,\n",
       "  247.83184814453125,\n",
       "  235.40560913085938,\n",
       "  221.0353546142578,\n",
       "  208.44676208496094,\n",
       "  196.2892608642578,\n",
       "  184.31288146972656,\n",
       "  173.54867553710938,\n",
       "  164.520263671875,\n",
       "  153.91725158691406,\n",
       "  145.14169311523438,\n",
       "  135.5212860107422,\n",
       "  125.62748718261719,\n",
       "  119.51145935058594,\n",
       "  110.34891510009766,\n",
       "  103.84257507324219,\n",
       "  96.04940795898438,\n",
       "  88.97869110107422,\n",
       "  82.4334716796875,\n",
       "  76.38754272460938,\n",
       "  70.67976379394531,\n",
       "  65.88982391357422,\n",
       "  60.5739860534668,\n",
       "  55.68148422241211,\n",
       "  51.18598175048828,\n",
       "  48.403564453125,\n",
       "  45.36894607543945,\n",
       "  41.76930618286133,\n",
       "  39.69213104248047,\n",
       "  37.69062042236328,\n",
       "  35.654415130615234,\n",
       "  34.32452392578125,\n",
       "  32.61405563354492,\n",
       "  31.009632110595703,\n",
       "  30.206090927124023,\n",
       "  28.898197174072266,\n",
       "  28.199665069580078,\n",
       "  28.009170532226562,\n",
       "  27.509716033935547,\n",
       "  26.685985565185547,\n",
       "  26.60181427001953,\n",
       "  25.965524673461914,\n",
       "  25.944093704223633,\n",
       "  25.148571014404297,\n",
       "  25.160747528076172,\n",
       "  25.189502716064453,\n",
       "  24.65734100341797,\n",
       "  24.683629989624023,\n",
       "  24.69510269165039,\n",
       "  24.856983184814453,\n",
       "  24.36594009399414,\n",
       "  24.970714569091797,\n",
       "  24.213348388671875,\n",
       "  24.445709228515625,\n",
       "  24.646190643310547,\n",
       "  24.504980087280273,\n",
       "  24.263992309570312,\n",
       "  24.541839599609375,\n",
       "  24.57267951965332,\n",
       "  24.466629028320312,\n",
       "  23.968799591064453,\n",
       "  24.450899124145508,\n",
       "  24.339855194091797,\n",
       "  24.490169525146484,\n",
       "  24.34490203857422,\n",
       "  24.242677688598633,\n",
       "  24.46034812927246,\n",
       "  24.212310791015625,\n",
       "  24.746557235717773,\n",
       "  24.127277374267578,\n",
       "  24.418962478637695,\n",
       "  24.68583106994629,\n",
       "  24.488197326660156,\n",
       "  24.408720016479492,\n",
       "  24.404783248901367,\n",
       "  24.08022689819336,\n",
       "  24.367454528808594,\n",
       "  24.319137573242188,\n",
       "  24.230552673339844,\n",
       "  24.640487670898438,\n",
       "  24.310964584350586,\n",
       "  24.500873565673828,\n",
       "  24.447683334350586,\n",
       "  24.77669334411621,\n",
       "  24.0848445892334,\n",
       "  24.238630294799805,\n",
       "  24.70620346069336,\n",
       "  24.046018600463867,\n",
       "  24.5130615234375,\n",
       "  24.118236541748047,\n",
       "  24.184659957885742,\n",
       "  24.31934356689453,\n",
       "  24.3730411529541,\n",
       "  24.266679763793945,\n",
       "  24.260074615478516,\n",
       "  24.061847686767578,\n",
       "  24.241886138916016,\n",
       "  24.134729385375977,\n",
       "  24.513341903686523,\n",
       "  24.282726287841797,\n",
       "  24.338294982910156,\n",
       "  24.046737670898438,\n",
       "  24.631553649902344,\n",
       "  24.30999755859375,\n",
       "  24.374975204467773,\n",
       "  24.51729965209961,\n",
       "  24.087181091308594,\n",
       "  24.424745559692383,\n",
       "  24.14314079284668,\n",
       "  24.2948055267334,\n",
       "  24.639551162719727,\n",
       "  24.037946701049805,\n",
       "  24.361244201660156,\n",
       "  24.736339569091797,\n",
       "  24.108928680419922,\n",
       "  24.312246322631836,\n",
       "  24.436643600463867,\n",
       "  24.48474884033203,\n",
       "  24.0855770111084,\n",
       "  24.488998413085938,\n",
       "  24.122861862182617,\n",
       "  24.12506103515625,\n",
       "  24.019235610961914,\n",
       "  24.327762603759766,\n",
       "  24.419897079467773,\n",
       "  24.060056686401367,\n",
       "  24.26946449279785,\n",
       "  24.554061889648438,\n",
       "  24.32135581970215,\n",
       "  24.593852996826172,\n",
       "  24.038686752319336,\n",
       "  24.606935501098633]}"
      ]
     },
     "execution_count": 38,
     "metadata": {},
     "output_type": "execute_result"
    }
   ],
   "source": [
    "model.history.history"
   ]
  },
  {
   "cell_type": "code",
   "execution_count": 39,
   "metadata": {
    "id": "RdRMKk-5YGAO",
    "outputId": "4f913567-cfe9-4a1c-de6e-949cbacc21f8"
   },
   "outputs": [
    {
     "data": {
      "text/html": [
       "<div>\n",
       "<style scoped>\n",
       "    .dataframe tbody tr th:only-of-type {\n",
       "        vertical-align: middle;\n",
       "    }\n",
       "\n",
       "    .dataframe tbody tr th {\n",
       "        vertical-align: top;\n",
       "    }\n",
       "\n",
       "    .dataframe thead th {\n",
       "        text-align: right;\n",
       "    }\n",
       "</style>\n",
       "<table border=\"1\" class=\"dataframe\">\n",
       "  <thead>\n",
       "    <tr style=\"text-align: right;\">\n",
       "      <th></th>\n",
       "      <th>loss</th>\n",
       "    </tr>\n",
       "  </thead>\n",
       "  <tbody>\n",
       "    <tr>\n",
       "      <th>0</th>\n",
       "      <td>256437.781250</td>\n",
       "    </tr>\n",
       "    <tr>\n",
       "      <th>1</th>\n",
       "      <td>256208.046875</td>\n",
       "    </tr>\n",
       "    <tr>\n",
       "      <th>2</th>\n",
       "      <td>255944.453125</td>\n",
       "    </tr>\n",
       "    <tr>\n",
       "      <th>3</th>\n",
       "      <td>255638.312500</td>\n",
       "    </tr>\n",
       "    <tr>\n",
       "      <th>4</th>\n",
       "      <td>255283.109375</td>\n",
       "    </tr>\n",
       "    <tr>\n",
       "      <th>...</th>\n",
       "      <td>...</td>\n",
       "    </tr>\n",
       "    <tr>\n",
       "      <th>245</th>\n",
       "      <td>24.554062</td>\n",
       "    </tr>\n",
       "    <tr>\n",
       "      <th>246</th>\n",
       "      <td>24.321356</td>\n",
       "    </tr>\n",
       "    <tr>\n",
       "      <th>247</th>\n",
       "      <td>24.593853</td>\n",
       "    </tr>\n",
       "    <tr>\n",
       "      <th>248</th>\n",
       "      <td>24.038687</td>\n",
       "    </tr>\n",
       "    <tr>\n",
       "      <th>249</th>\n",
       "      <td>24.606936</td>\n",
       "    </tr>\n",
       "  </tbody>\n",
       "</table>\n",
       "<p>250 rows × 1 columns</p>\n",
       "</div>"
      ],
      "text/plain": [
       "              loss\n",
       "0    256437.781250\n",
       "1    256208.046875\n",
       "2    255944.453125\n",
       "3    255638.312500\n",
       "4    255283.109375\n",
       "..             ...\n",
       "245      24.554062\n",
       "246      24.321356\n",
       "247      24.593853\n",
       "248      24.038687\n",
       "249      24.606936\n",
       "\n",
       "[250 rows x 1 columns]"
      ]
     },
     "execution_count": 39,
     "metadata": {},
     "output_type": "execute_result"
    }
   ],
   "source": [
    "pd.DataFrame(model.history.history)"
   ]
  },
  {
   "cell_type": "code",
   "execution_count": 42,
   "metadata": {
    "id": "nQo81WikYGAO",
    "outputId": "16d11279-189b-4f52-fe21-689b77fd5394"
   },
   "outputs": [
    {
     "data": {
      "text/plain": [
       "<AxesSubplot:>"
      ]
     },
     "execution_count": 42,
     "metadata": {},
     "output_type": "execute_result"
    },
    {
     "data": {
      "image/png": "[encoded data removed]",
      "text/plain": [
       "<Figure size 640x480 with 1 Axes>"
      ]
     },
     "metadata": {},
     "output_type": "display_data"
    }
   ],
   "source": [
    "loss_df = pd.DataFrame(model.history.history)\n",
    "loss_df.plot()"
   ]
  },
  {
   "cell_type": "code",
   "execution_count": 43,
   "metadata": {
    "id": "I1m7YLuLYGAP",
    "outputId": "98edcebd-3b8f-47e7-fc84-5a90eeb40369"
   },
   "outputs": [
    {
     "data": {
      "text/plain": [
       "(0.0, 3000.0)"
      ]
     },
     "execution_count": 43,
     "metadata": {},
     "output_type": "execute_result"
    },
    {
     "data": {
      "image/png": "[encoded data removed]",
      "text/plain": [
       "<Figure size 640x480 with 1 Axes>"
      ]
     },
     "metadata": {},
     "output_type": "display_data"
    }
   ],
   "source": [
    "fig, ax= plt.subplots()\n",
    "ax.plot(loss_df)\n",
    "ax.set_xlabel(\"epoch\")\n",
    "ax.set_ylabel(\"loss\")\n",
    "ax.set_title(\"loss - epoch graph\")\n",
    "ax.set_xlim([0, 250]) # focusing on the given x values\n",
    "ax.set_ylim([0, 3000]) # focusing on the given y values"
   ]
  },
  {
   "cell_type": "markdown",
   "metadata": {
    "id": "XjsrwTyCYGAP"
   },
   "source": [
    "## Model Performance"
   ]
  },
  {
   "cell_type": "code",
   "execution_count": 44,
   "metadata": {
    "id": "7ZtTz4geYGAQ"
   },
   "outputs": [],
   "source": [
    "from sklearn.metrics import mean_squared_error, mean_absolute_error, r2_score"
   ]
  },
  {
   "cell_type": "code",
   "execution_count": 45,
   "metadata": {
    "id": "vmFmyNveYGAQ",
    "outputId": "2f9c93a4-3ea7-4025-f36b-bbf9c417a646"
   },
   "outputs": [
    {
     "data": {
      "text/plain": [
       "24.55682945251465"
      ]
     },
     "execution_count": 45,
     "metadata": {},
     "output_type": "execute_result"
    }
   ],
   "source": [
    "model.evaluate(X_train, y_train, verbose=0)"
   ]
  },
  {
   "cell_type": "code",
   "execution_count": 46,
   "metadata": {
    "id": "JrSDNHtXYGAQ",
    "outputId": "cab1cbcc-de7a-4db4-9bef-5033a3618043"
   },
   "outputs": [
    {
     "data": {
      "text/plain": [
       "26.80281639099121"
      ]
     },
     "execution_count": 46,
     "metadata": {},
     "output_type": "execute_result"
    }
   ],
   "source": [
    "model.evaluate(X_test, y_test, verbose=0)"
   ]
  },
  {
   "cell_type": "code",
   "execution_count": 47,
   "metadata": {
    "id": "31BhQL3tYGAQ"
   },
   "outputs": [
    {
     "name": "stdout",
     "output_type": "stream",
     "text": [
      "10/10 [==============================] - 0s 927us/step\n"
     ]
    }
   ],
   "source": [
    "y_pred = model.predict(X_test)"
   ]
  },
  {
   "cell_type": "code",
   "execution_count": 52,
   "metadata": {
    "id": "851iPS9eYGAR",
    "outputId": "c5b64a81-10b6-4c07-87d9-3bd3107f1991"
   },
   "outputs": [
    {
     "data": {
      "text/html": [
       "<div>\n",
       "<style scoped>\n",
       "    .dataframe tbody tr th:only-of-type {\n",
       "        vertical-align: middle;\n",
       "    }\n",
       "\n",
       "    .dataframe tbody tr th {\n",
       "        vertical-align: top;\n",
       "    }\n",
       "\n",
       "    .dataframe thead th {\n",
       "        text-align: right;\n",
       "    }\n",
       "</style>\n",
       "<table border=\"1\" class=\"dataframe\">\n",
       "  <thead>\n",
       "    <tr style=\"text-align: right;\">\n",
       "      <th></th>\n",
       "      <th>Actual</th>\n",
       "      <th>Pred</th>\n",
       "    </tr>\n",
       "  </thead>\n",
       "  <tbody>\n",
       "    <tr>\n",
       "      <th>557</th>\n",
       "      <td>396.049985</td>\n",
       "      <td>405.668915</td>\n",
       "    </tr>\n",
       "    <tr>\n",
       "      <th>740</th>\n",
       "      <td>582.455066</td>\n",
       "      <td>593.588074</td>\n",
       "    </tr>\n",
       "    <tr>\n",
       "      <th>158</th>\n",
       "      <td>377.570426</td>\n",
       "      <td>373.155273</td>\n",
       "    </tr>\n",
       "    <tr>\n",
       "      <th>49</th>\n",
       "      <td>514.881741</td>\n",
       "      <td>512.566101</td>\n",
       "    </tr>\n",
       "    <tr>\n",
       "      <th>362</th>\n",
       "      <td>443.397036</td>\n",
       "      <td>445.713989</td>\n",
       "    </tr>\n",
       "    <tr>\n",
       "      <th>227</th>\n",
       "      <td>449.458484</td>\n",
       "      <td>450.500366</td>\n",
       "    </tr>\n",
       "    <tr>\n",
       "      <th>823</th>\n",
       "      <td>649.440068</td>\n",
       "      <td>642.547424</td>\n",
       "    </tr>\n",
       "    <tr>\n",
       "      <th>210</th>\n",
       "      <td>562.057936</td>\n",
       "      <td>567.986694</td>\n",
       "    </tr>\n",
       "    <tr>\n",
       "      <th>543</th>\n",
       "      <td>521.796992</td>\n",
       "      <td>517.827087</td>\n",
       "    </tr>\n",
       "    <tr>\n",
       "      <th>30</th>\n",
       "      <td>482.556412</td>\n",
       "      <td>492.275024</td>\n",
       "    </tr>\n",
       "  </tbody>\n",
       "</table>\n",
       "</div>"
      ],
      "text/plain": [
       "         Actual        Pred\n",
       "557  396.049985  405.668915\n",
       "740  582.455066  593.588074\n",
       "158  377.570426  373.155273\n",
       "49   514.881741  512.566101\n",
       "362  443.397036  445.713989\n",
       "227  449.458484  450.500366\n",
       "823  649.440068  642.547424\n",
       "210  562.057936  567.986694\n",
       "543  521.796992  517.827087\n",
       "30   482.556412  492.275024"
      ]
     },
     "execution_count": 52,
     "metadata": {},
     "output_type": "execute_result"
    }
   ],
   "source": [
    "my_dict = {\"Actual\" : y_test, \"Pred\" : y_pred.reshape(-1,)}\n",
    "compare = pd.DataFrame(my_dict)\n",
    "compare.sample(10)"
   ]
  },
  {
   "cell_type": "code",
   "execution_count": 53,
   "metadata": {
    "id": "6GXbje2BYGAR",
    "outputId": "59ebc06d-9cb8-4ab0-d031-8aae277529a8"
   },
   "outputs": [
    {
     "data": {
      "text/plain": [
       "<AxesSubplot:xlabel='Actual', ylabel='Pred'>"
      ]
     },
     "execution_count": 53,
     "metadata": {},
     "output_type": "execute_result"
    },
    {
     "data": {
      "image/png": "[encoded data removed]",
      "text/plain": [
       "<Figure size 640x480 with 1 Axes>"
      ]
     },
     "metadata": {},
     "output_type": "display_data"
    }
   ],
   "source": [
    "sns.scatterplot(x = 'Actual', y = 'Pred', data = compare)"
   ]
  },
  {
   "cell_type": "code",
   "execution_count": 54,
   "metadata": {
    "id": "qhvwQBwkYGAR"
   },
   "outputs": [],
   "source": [
    "def eval_metric(actual, pred):\n",
    "    mae = mean_absolute_error(actual, pred)\n",
    "    mse = mean_squared_error(actual, pred)\n",
    "    rmse = np.sqrt(mean_squared_error(actual, pred))\n",
    "    score = r2_score(actual, pred)\n",
    "    return print(\"r2_score:\", score, \"\\nmae:\", mae, \"\\nmse:\", mse, \"\\nrmse:\", rmse)"
   ]
  },
  {
   "cell_type": "code",
   "execution_count": 55,
   "metadata": {
    "id": "ebkLLagIYGAR",
    "outputId": "966d5588-08ba-4d8a-e775-b3c423dc2751"
   },
   "outputs": [
    {
     "name": "stdout",
     "output_type": "stream",
     "text": [
      "r2_score: 0.9969514648184226 \n",
      "mae: 4.1979802964256985 \n",
      "mse: 26.8028178495533 \n",
      "rmse: 5.177143792628644\n"
     ]
    }
   ],
   "source": [
    "eval_metric(y_test, y_pred)"
   ]
  },
  {
   "cell_type": "markdown",
   "metadata": {
    "id": "oKEYU7AdYGAR"
   },
   "source": [
    "## Final Model and Model Deployment"
   ]
  },
  {
   "cell_type": "markdown",
   "metadata": {
    "id": "APF0TKXZYGAS"
   },
   "source": [
    "### Final Model Training"
   ]
  },
  {
   "cell_type": "code",
   "execution_count": null,
   "metadata": {
    "id": "kIYJpUs8YGAS"
   },
   "outputs": [],
   "source": [
    "scaler = MinMaxScaler().fit(X)"
   ]
  },
  {
   "cell_type": "code",
   "execution_count": null,
   "metadata": {
    "id": "4H_I5VSCYGAS"
   },
   "outputs": [],
   "source": [
    "import pickle\n",
    "pickle.dump(scaler, open(\"scaler_fake_reg\", 'wb'))"
   ]
  },
  {
   "cell_type": "code",
   "execution_count": null,
   "metadata": {
    "id": "4SFqBUE6YGAS"
   },
   "outputs": [],
   "source": [
    "X_scaled = scaler.transform(X)"
   ]
  },
  {
   "cell_type": "code",
   "execution_count": null,
   "metadata": {
    "id": "D2PHOzS1YGAS",
    "outputId": "61ac518b-94cd-4107-a3d2-82d0dae144c9"
   },
   "outputs": [
    {
     "name": "stdout",
     "output_type": "stream",
     "text": [
      "Epoch 1/250\n",
      "32/32 [==============================] - 1s 1ms/step - loss: 257439.7969\n",
      "Epoch 2/250\n",
      "32/32 [==============================] - 0s 1ms/step - loss: 257405.5156\n",
      "Epoch 3/250\n",
      "32/32 [==============================] - 0s 1ms/step - loss: 257373.6250\n",
      "Epoch 4/250\n",
      "32/32 [==============================] - 0s 1ms/step - loss: 257341.7344\n",
      "Epoch 5/250\n",
      "32/32 [==============================] - 0s 1ms/step - loss: 257309.8906\n",
      "Epoch 6/250\n",
      "32/32 [==============================] - 0s 858us/step - loss: 257277.9844\n",
      "Epoch 7/250\n",
      "32/32 [==============================] - 0s 828us/step - loss: 257246.0156\n",
      "Epoch 8/250\n",
      "32/32 [==============================] - 0s 782us/step - loss: 257214.1562\n",
      "Epoch 9/250\n",
      "32/32 [==============================] - 0s 725us/step - loss: 257182.3438\n",
      "Epoch 10/250\n",
      "32/32 [==============================] - 0s 1ms/step - loss: 257150.4531\n",
      "Epoch 11/250\n",
      "32/32 [==============================] - 0s 1ms/step - loss: 257118.5625\n",
      "Epoch 12/250\n",
      "32/32 [==============================] - 0s 1ms/step - loss: 257086.6719\n",
      "Epoch 13/250\n",
      "32/32 [==============================] - 0s 1ms/step - loss: 257054.7656\n",
      "Epoch 14/250\n",
      "32/32 [==============================] - 0s 1ms/step - loss: 257022.9219\n",
      "Epoch 15/250\n",
      "32/32 [==============================] - 0s 1ms/step - loss: 256991.1094\n",
      "Epoch 16/250\n",
      "32/32 [==============================] - 0s 1ms/step - loss: 256959.3125\n",
      "Epoch 17/250\n",
      "32/32 [==============================] - 0s 1ms/step - loss: 256927.4219\n",
      "Epoch 18/250\n",
      "32/32 [==============================] - 0s 1ms/step - loss: 256895.5156\n",
      "Epoch 19/250\n",
      "32/32 [==============================] - 0s 1ms/step - loss: 256863.6094\n",
      "Epoch 20/250\n",
      "32/32 [==============================] - 0s 1ms/step - loss: 256831.8281\n",
      "Epoch 21/250\n",
      "32/32 [==============================] - 0s 1ms/step - loss: 256799.9531\n",
      "Epoch 22/250\n",
      "32/32 [==============================] - 0s 841us/step - loss: 256768.0625\n",
      "Epoch 23/250\n",
      "32/32 [==============================] - 0s 810us/step - loss: 256736.2344\n",
      "Epoch 24/250\n",
      "32/32 [==============================] - 0s 1ms/step - loss: 256704.4219\n",
      "Epoch 25/250\n",
      "32/32 [==============================] - 0s 1ms/step - loss: 256672.5156\n",
      "Epoch 26/250\n",
      "32/32 [==============================] - 0s 682us/step - loss: 256640.6875\n",
      "Epoch 27/250\n",
      "32/32 [==============================] - 0s 865us/step - loss: 256608.9219\n",
      "Epoch 28/250\n",
      "32/32 [==============================] - 0s 853us/step - loss: 256576.9531\n",
      "Epoch 29/250\n",
      "32/32 [==============================] - 0s 1ms/step - loss: 256545.1875\n",
      "Epoch 30/250\n",
      "32/32 [==============================] - 0s 1ms/step - loss: 256513.3438\n",
      "Epoch 31/250\n",
      "32/32 [==============================] - 0s 868us/step - loss: 256481.5781\n",
      "Epoch 32/250\n",
      "32/32 [==============================] - 0s 882us/step - loss: 256449.7344\n",
      "Epoch 33/250\n",
      "32/32 [==============================] - 0s 875us/step - loss: 256417.9375\n",
      "Epoch 34/250\n",
      "32/32 [==============================] - 0s 1ms/step - loss: 256386.0000\n",
      "Epoch 35/250\n",
      "32/32 [==============================] - 0s 924us/step - loss: 256354.2500\n",
      "Epoch 36/250\n",
      "32/32 [==============================] - 0s 869us/step - loss: 256322.4062\n",
      "Epoch 37/250\n",
      "32/32 [==============================] - 0s 916us/step - loss: 256290.5625\n",
      "Epoch 38/250\n",
      "32/32 [==============================] - 0s 906us/step - loss: 256258.7656\n",
      "Epoch 39/250\n",
      "32/32 [==============================] - 0s 933us/step - loss: 256226.8906\n",
      "Epoch 40/250\n",
      "32/32 [==============================] - 0s 800us/step - loss: 256195.0625\n",
      "Epoch 41/250\n",
      "32/32 [==============================] - 0s 900us/step - loss: 256163.3906\n",
      "Epoch 42/250\n",
      "32/32 [==============================] - 0s 939us/step - loss: 256131.5156\n",
      "Epoch 43/250\n",
      "32/32 [==============================] - 0s 1ms/step - loss: 256099.7344\n",
      "Epoch 44/250\n",
      "32/32 [==============================] - 0s 916us/step - loss: 256067.9219\n",
      "Epoch 45/250\n",
      "32/32 [==============================] - 0s 744us/step - loss: 256036.0469\n",
      "Epoch 46/250\n",
      "32/32 [==============================] - 0s 802us/step - loss: 256004.2500\n",
      "Epoch 47/250\n",
      "32/32 [==============================] - 0s 934us/step - loss: 255972.4844\n",
      "Epoch 48/250\n",
      "32/32 [==============================] - 0s 932us/step - loss: 255940.6094\n",
      "Epoch 49/250\n",
      "32/32 [==============================] - 0s 946us/step - loss: 255908.9375\n",
      "Epoch 50/250\n",
      "32/32 [==============================] - 0s 916us/step - loss: 255877.1250\n",
      "Epoch 51/250\n",
      "32/32 [==============================] - 0s 992us/step - loss: 255845.2812\n",
      "Epoch 52/250\n",
      "32/32 [==============================] - 0s 1ms/step - loss: 255813.5312\n",
      "Epoch 53/250\n",
      "32/32 [==============================] - 0s 1ms/step - loss: 255781.7344\n",
      "Epoch 54/250\n",
      "32/32 [==============================] - 0s 2ms/step - loss: 255749.9219\n",
      "Epoch 55/250\n",
      "32/32 [==============================] - 0s 1ms/step - loss: 255718.2188\n",
      "Epoch 56/250\n",
      "32/32 [==============================] - 0s 2ms/step - loss: 255686.3750\n",
      "Epoch 57/250\n",
      "32/32 [==============================] - 0s 2ms/step - loss: 255654.6875\n",
      "Epoch 58/250\n",
      "32/32 [==============================] - 0s 1ms/step - loss: 255622.7188\n",
      "Epoch 59/250\n",
      "32/32 [==============================] - 0s 1ms/step - loss: 255591.0312\n",
      "Epoch 60/250\n",
      "32/32 [==============================] - 0s 1ms/step - loss: 255559.2969\n",
      "Epoch 61/250\n",
      "32/32 [==============================] - 0s 1ms/step - loss: 255527.4688\n",
      "Epoch 62/250\n",
      "32/32 [==============================] - 0s 1ms/step - loss: 255495.7656\n",
      "Epoch 63/250\n",
      "32/32 [==============================] - 0s 999us/step - loss: 255463.9375\n",
      "Epoch 64/250\n",
      "32/32 [==============================] - 0s 1ms/step - loss: 255432.1719\n",
      "Epoch 65/250\n",
      "32/32 [==============================] - 0s 1ms/step - loss: 255400.3906\n",
      "Epoch 66/250\n",
      "32/32 [==============================] - 0s 1ms/step - loss: 255368.7031\n",
      "Epoch 67/250\n",
      "32/32 [==============================] - 0s 1ms/step - loss: 255336.9375\n",
      "Epoch 68/250\n",
      "32/32 [==============================] - 0s 1ms/step - loss: 255305.2344\n",
      "Epoch 69/250\n",
      "32/32 [==============================] - 0s 1ms/step - loss: 255273.4375\n",
      "Epoch 70/250\n",
      "32/32 [==============================] - 0s 1ms/step - loss: 255241.6562\n",
      "Epoch 71/250\n",
      "32/32 [==============================] - 0s 1ms/step - loss: 255209.8594\n",
      "Epoch 72/250\n",
      "32/32 [==============================] - 0s 1ms/step - loss: 255178.1250\n",
      "Epoch 73/250\n",
      "32/32 [==============================] - 0s 1ms/step - loss: 255146.5156\n",
      "Epoch 74/250\n",
      "32/32 [==============================] - 0s 1ms/step - loss: 255114.6562\n",
      "Epoch 75/250\n",
      "32/32 [==============================] - 0s 1ms/step - loss: 255083.0312\n",
      "Epoch 76/250\n",
      "32/32 [==============================] - 0s 1ms/step - loss: 255051.1406\n",
      "Epoch 77/250\n",
      "32/32 [==============================] - 0s 1ms/step - loss: 255019.4688\n",
      "Epoch 78/250\n",
      "32/32 [==============================] - 0s 1ms/step - loss: 254987.6875\n",
      "Epoch 79/250\n",
      "32/32 [==============================] - 0s 1ms/step - loss: 254956.0156\n",
      "Epoch 80/250\n",
      "32/32 [==============================] - 0s 1ms/step - loss: 254924.2344\n",
      "Epoch 81/250\n",
      "32/32 [==============================] - 0s 1ms/step - loss: 254892.4844\n",
      "Epoch 82/250\n",
      "32/32 [==============================] - 0s 1ms/step - loss: 254860.6719\n",
      "Epoch 83/250\n",
      "32/32 [==============================] - 0s 1ms/step - loss: 254828.9062\n",
      "Epoch 84/250\n",
      "32/32 [==============================] - 0s 1ms/step - loss: 254797.3281\n",
      "Epoch 85/250\n",
      "32/32 [==============================] - 0s 1ms/step - loss: 254765.6250\n",
      "Epoch 86/250\n",
      "32/32 [==============================] - 0s 1ms/step - loss: 254733.9219\n",
      "Epoch 87/250\n",
      "32/32 [==============================] - 0s 1ms/step - loss: 254702.2031\n",
      "Epoch 88/250\n",
      "32/32 [==============================] - 0s 1ms/step - loss: 254670.4062\n",
      "Epoch 89/250\n",
      "32/32 [==============================] - 0s 650us/step - loss: 254638.6875\n",
      "Epoch 90/250\n",
      "32/32 [==============================] - 0s 822us/step - loss: 254606.9844\n",
      "Epoch 91/250\n",
      "32/32 [==============================] - 0s 1ms/step - loss: 254575.2656\n",
      "Epoch 92/250\n",
      "32/32 [==============================] - 0s 660us/step - loss: 254543.5469\n",
      "Epoch 93/250\n",
      "32/32 [==============================] - 0s 1ms/step - loss: 254511.8906\n",
      "Epoch 94/250\n",
      "32/32 [==============================] - 0s 1ms/step - loss: 254480.1562\n",
      "Epoch 95/250\n",
      "32/32 [==============================] - 0s 1ms/step - loss: 254448.4375\n",
      "Epoch 96/250\n",
      "32/32 [==============================] - 0s 1ms/step - loss: 254416.7969\n",
      "Epoch 97/250\n",
      "32/32 [==============================] - 0s 1ms/step - loss: 254385.0938\n",
      "Epoch 98/250\n",
      "32/32 [==============================] - 0s 651us/step - loss: 254353.3438\n",
      "Epoch 99/250\n",
      "32/32 [==============================] - 0s 747us/step - loss: 254321.7500\n",
      "Epoch 100/250\n",
      "32/32 [==============================] - 0s 813us/step - loss: 254290.1250\n",
      "Epoch 101/250\n",
      "32/32 [==============================] - 0s 984us/step - loss: 254258.3906\n",
      "Epoch 102/250\n",
      "32/32 [==============================] - 0s 823us/step - loss: 254226.7969\n",
      "Epoch 103/250\n",
      "32/32 [==============================] - 0s 776us/step - loss: 254194.9219\n",
      "Epoch 104/250\n",
      "32/32 [==============================] - 0s 793us/step - loss: 254163.2344\n",
      "Epoch 105/250\n",
      "32/32 [==============================] - 0s 765us/step - loss: 254131.5469\n",
      "Epoch 106/250\n",
      "32/32 [==============================] - 0s 813us/step - loss: 254099.8750\n",
      "Epoch 107/250\n",
      "32/32 [==============================] - 0s 855us/step - loss: 254068.2656\n",
      "Epoch 108/250\n",
      "32/32 [==============================] - 0s 805us/step - loss: 254036.5938\n",
      "Epoch 109/250\n",
      "32/32 [==============================] - 0s 755us/step - loss: 254004.8750\n",
      "Epoch 110/250\n",
      "32/32 [==============================] - 0s 778us/step - loss: 253973.2031\n",
      "Epoch 111/250\n",
      "32/32 [==============================] - 0s 813us/step - loss: 253941.5625\n",
      "Epoch 112/250\n",
      "32/32 [==============================] - 0s 960us/step - loss: 253909.9062\n",
      "Epoch 113/250\n",
      "32/32 [==============================] - 0s 799us/step - loss: 253878.2344\n",
      "Epoch 114/250\n",
      "32/32 [==============================] - 0s 844us/step - loss: 253846.5781\n",
      "Epoch 115/250\n",
      "32/32 [==============================] - 0s 915us/step - loss: 253814.8750\n",
      "Epoch 116/250\n",
      "32/32 [==============================] - 0s 867us/step - loss: 253783.1406\n",
      "Epoch 117/250\n",
      "32/32 [==============================] - 0s 1ms/step - loss: 253751.5312\n",
      "Epoch 118/250\n",
      "32/32 [==============================] - 0s 1ms/step - loss: 253719.8281\n",
      "Epoch 119/250\n",
      "32/32 [==============================] - 0s 822us/step - loss: 253688.2656\n",
      "Epoch 120/250\n",
      "32/32 [==============================] - 0s 1ms/step - loss: 253656.5938\n",
      "Epoch 121/250\n",
      "32/32 [==============================] - 0s 897us/step - loss: 253624.9062\n",
      "Epoch 122/250\n",
      "32/32 [==============================] - 0s 867us/step - loss: 253593.2656\n",
      "Epoch 123/250\n",
      "32/32 [==============================] - 0s 753us/step - loss: 253561.5938\n",
      "Epoch 124/250\n",
      "32/32 [==============================] - 0s 883us/step - loss: 253530.0000\n",
      "Epoch 125/250\n",
      "32/32 [==============================] - 0s 843us/step - loss: 253498.3906\n",
      "Epoch 126/250\n",
      "32/32 [==============================] - 0s 1ms/step - loss: 253466.7188\n",
      "Epoch 127/250\n",
      "32/32 [==============================] - 0s 916us/step - loss: 253435.1562\n",
      "Epoch 128/250\n",
      "32/32 [==============================] - 0s 1ms/step - loss: 253403.4375\n",
      "Epoch 129/250\n",
      "32/32 [==============================] - 0s 1ms/step - loss: 253371.7812\n",
      "Epoch 130/250\n",
      "32/32 [==============================] - 0s 894us/step - loss: 253340.2500\n",
      "Epoch 131/250\n",
      "32/32 [==============================] - 0s 944us/step - loss: 253308.6406\n",
      "Epoch 132/250\n",
      "32/32 [==============================] - 0s 681us/step - loss: 253277.0469\n",
      "Epoch 133/250\n",
      "32/32 [==============================] - 0s 962us/step - loss: 253245.3438\n",
      "Epoch 134/250\n",
      "32/32 [==============================] - 0s 961us/step - loss: 253213.7031\n",
      "Epoch 135/250\n",
      "32/32 [==============================] - 0s 925us/step - loss: 253182.1406\n",
      "Epoch 136/250\n",
      "32/32 [==============================] - 0s 1ms/step - loss: 253150.5469\n",
      "Epoch 137/250\n",
      "32/32 [==============================] - 0s 983us/step - loss: 253118.7969\n",
      "Epoch 138/250\n",
      "32/32 [==============================] - 0s 1ms/step - loss: 253087.2031\n",
      "Epoch 139/250\n",
      "32/32 [==============================] - 0s 980us/step - loss: 253055.6094\n",
      "Epoch 140/250\n",
      "32/32 [==============================] - 0s 978us/step - loss: 253023.9844\n",
      "Epoch 141/250\n",
      "32/32 [==============================] - 0s 948us/step - loss: 252992.4531\n",
      "Epoch 142/250\n",
      "32/32 [==============================] - 0s 792us/step - loss: 252960.8438\n",
      "Epoch 143/250\n",
      "32/32 [==============================] - 0s 1ms/step - loss: 252929.1406\n",
      "Epoch 144/250\n",
      "32/32 [==============================] - 0s 1ms/step - loss: 252897.5781\n",
      "Epoch 145/250\n",
      "32/32 [==============================] - 0s 955us/step - loss: 252865.9531\n",
      "Epoch 146/250\n",
      "32/32 [==============================] - 0s 934us/step - loss: 252834.2812\n",
      "Epoch 147/250\n",
      "32/32 [==============================] - 0s 1ms/step - loss: 252802.7188\n",
      "Epoch 148/250\n",
      "32/32 [==============================] - 0s 1ms/step - loss: 252771.1406\n",
      "Epoch 149/250\n",
      "32/32 [==============================] - 0s 1ms/step - loss: 252739.5938\n",
      "Epoch 150/250\n",
      "32/32 [==============================] - 0s 1ms/step - loss: 252707.9844\n",
      "Epoch 151/250\n",
      "32/32 [==============================] - 0s 1ms/step - loss: 252676.4062\n",
      "Epoch 152/250\n",
      "32/32 [==============================] - 0s 1ms/step - loss: 252644.7969\n",
      "Epoch 153/250\n",
      "32/32 [==============================] - 0s 809us/step - loss: 252613.2812\n",
      "Epoch 154/250\n",
      "32/32 [==============================] - 0s 1ms/step - loss: 252581.6875\n",
      "Epoch 155/250\n",
      "32/32 [==============================] - 0s 1ms/step - loss: 252550.0156\n",
      "Epoch 156/250\n",
      "32/32 [==============================] - 0s 1ms/step - loss: 252518.4844\n",
      "Epoch 157/250\n",
      "32/32 [==============================] - 0s 684us/step - loss: 252486.8906\n",
      "Epoch 158/250\n",
      "32/32 [==============================] - 0s 2ms/step - loss: 252455.3281\n",
      "Epoch 159/250\n",
      "32/32 [==============================] - 0s 1ms/step - loss: 252423.7500\n",
      "Epoch 160/250\n",
      "32/32 [==============================] - 0s 1ms/step - loss: 252392.2188\n",
      "Epoch 161/250\n",
      "32/32 [==============================] - 0s 1ms/step - loss: 252360.6094\n",
      "Epoch 162/250\n",
      "32/32 [==============================] - 0s 1ms/step - loss: 252329.0781\n",
      "Epoch 163/250\n",
      "32/32 [==============================] - 0s 1ms/step - loss: 252297.5625\n",
      "Epoch 164/250\n",
      "32/32 [==============================] - 0s 1ms/step - loss: 252265.9062\n",
      "Epoch 165/250\n",
      "32/32 [==============================] - 0s 1ms/step - loss: 252234.4688\n",
      "Epoch 166/250\n",
      "32/32 [==============================] - 0s 1ms/step - loss: 252202.8281\n",
      "Epoch 167/250\n",
      "32/32 [==============================] - 0s 1ms/step - loss: 252171.2969\n",
      "Epoch 168/250\n",
      "32/32 [==============================] - 0s 1ms/step - loss: 252139.7656\n",
      "Epoch 169/250\n",
      "32/32 [==============================] - 0s 873us/step - loss: 252108.1875\n",
      "Epoch 170/250\n",
      "32/32 [==============================] - 0s 1ms/step - loss: 252076.7031\n",
      "Epoch 171/250\n",
      "32/32 [==============================] - 0s 1ms/step - loss: 252045.0938\n",
      "Epoch 172/250\n",
      "32/32 [==============================] - 0s 1ms/step - loss: 252013.5469\n",
      "Epoch 173/250\n",
      "32/32 [==============================] - 0s 1ms/step - loss: 251982.1562\n",
      "Epoch 174/250\n",
      "32/32 [==============================] - 0s 1ms/step - loss: 251950.5312\n",
      "Epoch 175/250\n",
      "32/32 [==============================] - 0s 1ms/step - loss: 251918.8750\n",
      "Epoch 176/250\n",
      "32/32 [==============================] - 0s 730us/step - loss: 251887.2812\n",
      "Epoch 177/250\n",
      "32/32 [==============================] - 0s 1ms/step - loss: 251855.8438\n",
      "Epoch 178/250\n",
      "32/32 [==============================] - 0s 1ms/step - loss: 251824.3906\n",
      "Epoch 179/250\n",
      "32/32 [==============================] - 0s 1ms/step - loss: 251792.8281\n",
      "Epoch 180/250\n",
      "32/32 [==============================] - 0s 1ms/step - loss: 251761.2812\n",
      "Epoch 181/250\n",
      "32/32 [==============================] - 0s 657us/step - loss: 251729.7344\n",
      "Epoch 182/250\n",
      "32/32 [==============================] - 0s 1ms/step - loss: 251698.2188\n",
      "Epoch 183/250\n",
      "32/32 [==============================] - 0s 1ms/step - loss: 251666.7031\n",
      "Epoch 184/250\n",
      "32/32 [==============================] - 0s 1ms/step - loss: 251635.2344\n",
      "Epoch 185/250\n",
      "32/32 [==============================] - 0s 1ms/step - loss: 251603.7031\n",
      "Epoch 186/250\n",
      "32/32 [==============================] - 0s 765us/step - loss: 251572.0781\n",
      "Epoch 187/250\n",
      "32/32 [==============================] - 0s 809us/step - loss: 251540.7031\n",
      "Epoch 188/250\n",
      "32/32 [==============================] - 0s 639us/step - loss: 251509.1562\n",
      "Epoch 189/250\n",
      "32/32 [==============================] - 0s 980us/step - loss: 251477.5781\n",
      "Epoch 190/250\n",
      "32/32 [==============================] - 0s 742us/step - loss: 251446.1250\n",
      "Epoch 191/250\n",
      "32/32 [==============================] - 0s 749us/step - loss: 251414.5781\n",
      "Epoch 192/250\n",
      "32/32 [==============================] - 0s 664us/step - loss: 251383.1562\n",
      "Epoch 193/250\n",
      "32/32 [==============================] - 0s 738us/step - loss: 251351.6562\n",
      "Epoch 194/250\n",
      "32/32 [==============================] - 0s 1ms/step - loss: 251320.0781\n",
      "Epoch 195/250\n",
      "32/32 [==============================] - 0s 803us/step - loss: 251288.5625\n",
      "Epoch 196/250\n",
      "32/32 [==============================] - 0s 939us/step - loss: 251257.1250\n",
      "Epoch 197/250\n",
      "32/32 [==============================] - 0s 716us/step - loss: 251225.6406\n",
      "Epoch 198/250\n",
      "32/32 [==============================] - 0s 757us/step - loss: 251194.0469\n",
      "Epoch 199/250\n",
      "32/32 [==============================] - 0s 1ms/step - loss: 251162.5938\n",
      "Epoch 200/250\n",
      "32/32 [==============================] - 0s 1ms/step - loss: 251131.1719\n",
      "Epoch 201/250\n",
      "32/32 [==============================] - 0s 737us/step - loss: 251099.6562\n",
      "Epoch 202/250\n",
      "32/32 [==============================] - 0s 813us/step - loss: 251068.2812\n",
      "Epoch 203/250\n",
      "32/32 [==============================] - 0s 810us/step - loss: 251036.7188\n",
      "Epoch 204/250\n",
      "32/32 [==============================] - 0s 853us/step - loss: 251005.3125\n",
      "Epoch 205/250\n",
      "32/32 [==============================] - 0s 2ms/step - loss: 250973.8594\n",
      "Epoch 206/250\n",
      "32/32 [==============================] - 0s 1ms/step - loss: 250942.3594\n",
      "Epoch 207/250\n",
      "32/32 [==============================] - 0s 847us/step - loss: 250910.8750\n",
      "Epoch 208/250\n",
      "32/32 [==============================] - 0s 853us/step - loss: 250879.4062\n",
      "Epoch 209/250\n",
      "32/32 [==============================] - 0s 785us/step - loss: 250847.8281\n",
      "Epoch 210/250\n",
      "32/32 [==============================] - 0s 827us/step - loss: 250816.3906\n",
      "Epoch 211/250\n",
      "32/32 [==============================] - 0s 895us/step - loss: 250784.9844\n",
      "Epoch 212/250\n",
      "32/32 [==============================] - 0s 877us/step - loss: 250753.6094\n",
      "Epoch 213/250\n",
      "32/32 [==============================] - 0s 1ms/step - loss: 250722.0469\n",
      "Epoch 214/250\n",
      "32/32 [==============================] - 0s 929us/step - loss: 250690.6094\n",
      "Epoch 215/250\n",
      "32/32 [==============================] - 0s 774us/step - loss: 250659.2656\n",
      "Epoch 216/250\n",
      "32/32 [==============================] - 0s 852us/step - loss: 250627.6875\n",
      "Epoch 217/250\n",
      "32/32 [==============================] - 0s 857us/step - loss: 250596.2344\n",
      "Epoch 218/250\n",
      "32/32 [==============================] - 0s 1ms/step - loss: 250564.8281\n",
      "Epoch 219/250\n",
      "32/32 [==============================] - 0s 883us/step - loss: 250533.4688\n",
      "Epoch 220/250\n",
      "32/32 [==============================] - 0s 916us/step - loss: 250501.9688\n",
      "Epoch 221/250\n",
      "32/32 [==============================] - 0s 927us/step - loss: 250470.5469\n",
      "Epoch 222/250\n",
      "32/32 [==============================] - 0s 952us/step - loss: 250439.1250\n",
      "Epoch 223/250\n",
      "32/32 [==============================] - 0s 917us/step - loss: 250407.6250\n",
      "Epoch 224/250\n",
      "32/32 [==============================] - 0s 1ms/step - loss: 250376.2188\n",
      "Epoch 225/250\n",
      "32/32 [==============================] - 0s 899us/step - loss: 250344.7031\n",
      "Epoch 226/250\n",
      "32/32 [==============================] - 0s 778us/step - loss: 250313.2969\n",
      "Epoch 227/250\n",
      "32/32 [==============================] - 0s 956us/step - loss: 250281.7969\n",
      "Epoch 228/250\n",
      "32/32 [==============================] - 0s 1ms/step - loss: 250250.4375\n",
      "Epoch 229/250\n",
      "32/32 [==============================] - 0s 995us/step - loss: 250219.0781\n",
      "Epoch 230/250\n",
      "32/32 [==============================] - 0s 972us/step - loss: 250187.6562\n",
      "Epoch 231/250\n",
      "32/32 [==============================] - 0s 1ms/step - loss: 250156.1719\n",
      "Epoch 232/250\n",
      "32/32 [==============================] - 0s 976us/step - loss: 250124.6875\n",
      "Epoch 233/250\n",
      "32/32 [==============================] - 0s 905us/step - loss: 250093.3125\n",
      "Epoch 234/250\n",
      "32/32 [==============================] - 0s 1ms/step - loss: 250061.8281\n",
      "Epoch 235/250\n",
      "32/32 [==============================] - 0s 947us/step - loss: 250030.5000\n",
      "Epoch 236/250\n",
      "32/32 [==============================] - 0s 766us/step - loss: 249999.1250\n",
      "Epoch 237/250\n",
      "32/32 [==============================] - 0s 979us/step - loss: 249967.6250\n",
      "Epoch 238/250\n",
      "32/32 [==============================] - 0s 972us/step - loss: 249936.2656\n",
      "Epoch 239/250\n",
      "32/32 [==============================] - 0s 1ms/step - loss: 249904.8438\n",
      "Epoch 240/250\n",
      "32/32 [==============================] - 0s 983us/step - loss: 249873.4219\n",
      "Epoch 241/250\n",
      "32/32 [==============================] - 0s 1ms/step - loss: 249842.0938\n",
      "Epoch 242/250\n",
      "32/32 [==============================] - 0s 971us/step - loss: 249810.5781\n",
      "Epoch 243/250\n",
      "32/32 [==============================] - 0s 1ms/step - loss: 249779.1719\n",
      "Epoch 244/250\n",
      "32/32 [==============================] - 0s 811us/step - loss: 249747.8125\n",
      "Epoch 245/250\n",
      "32/32 [==============================] - 0s 1ms/step - loss: 249716.4062\n",
      "Epoch 246/250\n",
      "32/32 [==============================] - 0s 1ms/step - loss: 249685.0938\n",
      "Epoch 247/250\n",
      "32/32 [==============================] - 0s 1ms/step - loss: 249653.7500\n",
      "Epoch 248/250\n",
      "32/32 [==============================] - 0s 944us/step - loss: 249622.2500\n",
      "Epoch 249/250\n",
      "32/32 [==============================] - 0s 1ms/step - loss: 249590.8281\n",
      "Epoch 250/250\n",
      "32/32 [==============================] - 0s 687us/step - loss: 249559.4062\n"
     ]
    },
    {
     "data": {
      "text/plain": [
       "<keras.callbacks.History at 0x130ae8bf948>"
      ]
     },
     "execution_count": 53,
     "metadata": {},
     "output_type": "execute_result"
    }
   ],
   "source": [
    "final_model = Sequential()\n",
    "\n",
    "final_model.add(Dense(units = 4, activation = \"relu\"))     # input_dim = 2 or input_dim = X_train.shape[1]\n",
    "final_model.add(Dense(units = 4, activation = \"relu\"))\n",
    "final_model.add(Dense(units = 4, activation = \"relu\"))\n",
    "final_model.add(Dense(1))\n",
    "\n",
    "final_model.compile(optimizer = \"rmsprop\", loss = \"mse\")\n",
    "\n",
    "final_model.fit(x = X_scaled, y = y, batch_size = 32, epochs = 250)"
   ]
  },
  {
   "cell_type": "markdown",
   "metadata": {
    "id": "5Ncus4tsYGAT"
   },
   "source": [
    "### Saving a Model"
   ]
  },
  {
   "cell_type": "markdown",
   "metadata": {
    "id": "OkZlNOz_YGAT"
   },
   "source": [
    "You can save a TensorFlow/Keras model using [`model.save()`](https://www.tensorflow.org/tutorials/keras/save_and_load#save_the_entire_model).\n",
    "\n",
    "Keras saves models by inspecting their architectures. This technique saves everything:\n",
    "\n",
    "- The weight values\n",
    "- The model's architecture\n",
    "- The model's training configuration (what you pass to the .compile() method)\n",
    "- The optimizer and its state, if any (this enables you to restart training where you left off)\n",
    "\n",
    "There are two ways to save a model in TensorFlow:\n",
    "1. The [SavedModel format](https://www.tensorflow.org/tutorials/keras/save_and_load#savedmodel_format) (default).\n",
    "2. The [HDF5 format](https://www.tensorflow.org/tutorials/keras/save_and_load#hdf5_format).\n",
    "\n",
    "The main difference between the two is the SavedModel is automatically able to save custom objects (such as special layers) without additional modifications when loading the model back in.\n",
    "\n",
    "The key difference between HDF5 and SavedModel is that HDF5 uses object configs to save the model architecture, while SavedModel saves the execution graph. Thus, SavedModels are able to save custom objects like subclassed models and custom layers without requiring the original code."
   ]
  },
  {
   "cell_type": "code",
   "execution_count": null,
   "metadata": {
    "id": "aemsr3lnYGAT"
   },
   "outputs": [],
   "source": [
    "final_model.save('model_fake_reg.h5')  # creates a HDF5 file 'my_model.h5'"
   ]
  },
  {
   "cell_type": "code",
   "execution_count": null,
   "metadata": {
    "id": "foxJ6r9DYGAU"
   },
   "outputs": [],
   "source": [
    "#final_model.save(\"model_fake_reg\") "
   ]
  },
  {
   "cell_type": "markdown",
   "metadata": {
    "id": "_kkX_nYHYGAU"
   },
   "source": [
    "### Loading Model"
   ]
  },
  {
   "cell_type": "code",
   "execution_count": null,
   "metadata": {
    "id": "79HGbk3lYGAU"
   },
   "outputs": [],
   "source": [
    "from tensorflow.keras.models import load_model"
   ]
  },
  {
   "cell_type": "code",
   "execution_count": null,
   "metadata": {
    "id": "67XRxNYEYGAU"
   },
   "outputs": [],
   "source": [
    "model_fake_reg = load_model('model_fake_reg.h5')"
   ]
  },
  {
   "cell_type": "code",
   "execution_count": null,
   "metadata": {
    "id": "QxqZLPXYYGAU"
   },
   "outputs": [],
   "source": [
    "scaler_fake_reg = pickle.load(open(\"scaler_fake_reg\", \"rb\"))"
   ]
  },
  {
   "cell_type": "markdown",
   "metadata": {
    "id": "y-YjBDtXYGAV"
   },
   "source": [
    "## Prediction-1"
   ]
  },
  {
   "cell_type": "code",
   "execution_count": null,
   "metadata": {
    "id": "BTyJWjnCYGAV"
   },
   "outputs": [],
   "source": [
    "sample = [[998, 1000]]"
   ]
  },
  {
   "cell_type": "code",
   "execution_count": null,
   "metadata": {
    "id": "VHYkTc51YGAV"
   },
   "outputs": [],
   "source": [
    "sample_scaled = scaler_fake_reg.transform(sample)"
   ]
  },
  {
   "cell_type": "code",
   "execution_count": null,
   "metadata": {
    "id": "NT9Tyvw2YGAW",
    "outputId": "2c4f821f-a780-4704-cfa6-fa6c96bcac8c"
   },
   "outputs": [
    {
     "data": {
      "text/plain": [
       "array([[8.004098]], dtype=float32)"
      ]
     },
     "execution_count": 61,
     "metadata": {},
     "output_type": "execute_result"
    }
   ],
   "source": [
    "model_fake_reg.predict(sample_scaled)"
   ]
  },
  {
   "cell_type": "markdown",
   "metadata": {
    "id": "OsxmtZE0YGAW"
   },
   "source": [
    "## Prediction-2"
   ]
  },
  {
   "cell_type": "code",
   "execution_count": null,
   "metadata": {
    "id": "gMZwzU3_YGAX"
   },
   "outputs": [],
   "source": [
    "my_dict = {\"Feature1\": [997, 998, 999, 1000, 1001],\n",
    "           \"Feature2\": [1000, 999, 998, 997, 996]}"
   ]
  },
  {
   "cell_type": "code",
   "execution_count": null,
   "metadata": {
    "id": "_XbY1NOWYGAX",
    "outputId": "cb35570e-b2fb-4d3f-f8b6-c991fd467f0f"
   },
   "outputs": [
    {
     "data": {
      "text/html": [
       "<div>\n",
       "<style scoped>\n",
       "    .dataframe tbody tr th:only-of-type {\n",
       "        vertical-align: middle;\n",
       "    }\n",
       "\n",
       "    .dataframe tbody tr th {\n",
       "        vertical-align: top;\n",
       "    }\n",
       "\n",
       "    .dataframe thead th {\n",
       "        text-align: right;\n",
       "    }\n",
       "</style>\n",
       "<table border=\"1\" class=\"dataframe\">\n",
       "  <thead>\n",
       "    <tr style=\"text-align: right;\">\n",
       "      <th></th>\n",
       "      <th>Feature1</th>\n",
       "      <th>Feature2</th>\n",
       "    </tr>\n",
       "  </thead>\n",
       "  <tbody>\n",
       "    <tr>\n",
       "      <th>0</th>\n",
       "      <td>997</td>\n",
       "      <td>1000</td>\n",
       "    </tr>\n",
       "    <tr>\n",
       "      <th>1</th>\n",
       "      <td>998</td>\n",
       "      <td>999</td>\n",
       "    </tr>\n",
       "    <tr>\n",
       "      <th>2</th>\n",
       "      <td>999</td>\n",
       "      <td>998</td>\n",
       "    </tr>\n",
       "    <tr>\n",
       "      <th>3</th>\n",
       "      <td>1000</td>\n",
       "      <td>997</td>\n",
       "    </tr>\n",
       "    <tr>\n",
       "      <th>4</th>\n",
       "      <td>1001</td>\n",
       "      <td>996</td>\n",
       "    </tr>\n",
       "  </tbody>\n",
       "</table>\n",
       "</div>"
      ],
      "text/plain": [
       "   Feature1  Feature2\n",
       "0       997      1000\n",
       "1       998       999\n",
       "2       999       998\n",
       "3      1000       997\n",
       "4      1001       996"
      ]
     },
     "execution_count": 63,
     "metadata": {},
     "output_type": "execute_result"
    }
   ],
   "source": [
    "sample = pd.DataFrame(my_dict)\n",
    "sample"
   ]
  },
  {
   "cell_type": "code",
   "execution_count": null,
   "metadata": {
    "id": "ag-dSyYwYGAX",
    "outputId": "9b05d4a0-21d4-495b-820f-5a150e86936e"
   },
   "outputs": [
    {
     "data": {
      "text/plain": [
       "array([[-0.00948799,  0.52980619],\n",
       "       [ 0.15312457,  0.35345977],\n",
       "       [ 0.31573713,  0.17711336],\n",
       "       [ 0.47834969,  0.00076694],\n",
       "       [ 0.64096225, -0.17557948]])"
      ]
     },
     "execution_count": 64,
     "metadata": {},
     "output_type": "execute_result"
    }
   ],
   "source": [
    "sample_scaled = scaler_fake_reg.transform(sample)\n",
    "sample_scaled"
   ]
  },
  {
   "cell_type": "code",
   "execution_count": null,
   "metadata": {
    "id": "fkgEHtfuYGAX",
    "outputId": "2b416d1e-5942-40ff-e9ea-82e55bfc98d7"
   },
   "outputs": [
    {
     "data": {
      "text/plain": [
       "array([[8.004098],\n",
       "       [8.004098],\n",
       "       [8.004098],\n",
       "       [8.004098],\n",
       "       [8.004098]], dtype=float32)"
      ]
     },
     "execution_count": 65,
     "metadata": {},
     "output_type": "execute_result"
    }
   ],
   "source": [
    "model_fake_reg.predict(sample_scaled)"
   ]
  },
  {
   "cell_type": "markdown",
   "metadata": {
    "id": "A_JalkGuYGAY"
   },
   "source": [
    "___\n",
    "\n",
    "<p style=\"text-align: center;\"><img src=\"https://docs.google.com/uc?id=1lY0Uj5R04yMY3-ZppPWxqCr5pvBLYPnV\" class=\"img-fluid\" alt=\"CLRSWY\"></p>\n",
    "\n",
    "___"
   ]
  }
 ],
 "metadata": {
  "colab": {
   "name": "DL-S2 (Installing Tensorflow & Keras Syntext Basics-fake reg).ipynb",
   "provenance": []
  },
  "kernelspec": {
   "display_name": "Python 3 (ipykernel)",
   "language": "python",
   "name": "python3"
  },
  "language_info": {
   "codemirror_mode": {
    "name": "ipython",
    "version": 3
   },
   "file_extension": ".py",
   "mimetype": "text/x-python",
   "name": "python",
   "nbconvert_exporter": "python",
   "pygments_lexer": "ipython3",
   "version": "3.9.13"
  },
  "toc": {
   "base_numbering": 1,
   "nav_menu": {},
   "number_sections": false,
   "sideBar": true,
   "skip_h1_title": false,
   "title_cell": "Table of Contents",
   "title_sidebar": "Contents",
   "toc_cell": false,
   "toc_position": {
    "height": "calc(100% - 180px)",
    "left": "10px",
    "top": "150px",
    "width": "300.099px"
   },
   "toc_section_display": true,
   "toc_window_display": false
  }
 },
 "nbformat": 4,
 "nbformat_minor": 4
}
